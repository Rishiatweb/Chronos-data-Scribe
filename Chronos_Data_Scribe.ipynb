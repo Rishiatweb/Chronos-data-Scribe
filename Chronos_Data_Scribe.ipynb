{
  "nbformat": 4,
  "nbformat_minor": 0,
  "metadata": {
    "colab": {
      "provenance": [],
      "authorship_tag": "ABX9TyOpvUqkN1teEuc4ZsUMz1B5",
      "include_colab_link": true
    },
    "kernelspec": {
      "name": "python3",
      "display_name": "Python 3"
    },
    "language_info": {
      "name": "python"
    }
  },
  "cells": [
    {
      "cell_type": "markdown",
      "metadata": {
        "id": "view-in-github",
        "colab_type": "text"
      },
      "source": [
        "<a href=\"https://colab.research.google.com/github/Rishiatweb/Chronos-data-Scribe/blob/main/Chronos_Data_Scribe.ipynb\" target=\"_parent\"><img src=\"https://colab.research.google.com/assets/colab-badge.svg\" alt=\"Open In Colab\"/></a>"
      ]
    },
    {
      "cell_type": "code",
      "execution_count": 21,
      "metadata": {
        "colab": {
          "base_uri": "https://localhost:8080/"
        },
        "id": "8GHtQgDAib0M",
        "outputId": "1588514b-d610-414e-bd14-c652eb0d6a89"
      },
      "outputs": [
        {
          "output_type": "stream",
          "name": "stdout",
          "text": [
            "Requirement already satisfied: pandas in /usr/local/lib/python3.11/dist-packages (2.2.2)\n",
            "Requirement already satisfied: python-dotenv in /usr/local/lib/python3.11/dist-packages (1.1.0)\n",
            "Requirement already satisfied: Jinja2 in /usr/local/lib/python3.11/dist-packages (3.1.6)\n",
            "Requirement already satisfied: transformers in /usr/local/lib/python3.11/dist-packages (4.52.3)\n",
            "Requirement already satisfied: torch in /usr/local/lib/python3.11/dist-packages (2.6.0+cu124)\n",
            "Requirement already satisfied: sentencepiece in /usr/local/lib/python3.11/dist-packages (0.2.0)\n",
            "Requirement already satisfied: numpy>=1.23.2 in /usr/local/lib/python3.11/dist-packages (from pandas) (2.0.2)\n",
            "Requirement already satisfied: python-dateutil>=2.8.2 in /usr/local/lib/python3.11/dist-packages (from pandas) (2.9.0.post0)\n",
            "Requirement already satisfied: pytz>=2020.1 in /usr/local/lib/python3.11/dist-packages (from pandas) (2025.2)\n",
            "Requirement already satisfied: tzdata>=2022.7 in /usr/local/lib/python3.11/dist-packages (from pandas) (2025.2)\n",
            "Requirement already satisfied: MarkupSafe>=2.0 in /usr/local/lib/python3.11/dist-packages (from Jinja2) (3.0.2)\n",
            "Requirement already satisfied: filelock in /usr/local/lib/python3.11/dist-packages (from transformers) (3.18.0)\n",
            "Requirement already satisfied: huggingface-hub<1.0,>=0.30.0 in /usr/local/lib/python3.11/dist-packages (from transformers) (0.32.2)\n",
            "Requirement already satisfied: packaging>=20.0 in /usr/local/lib/python3.11/dist-packages (from transformers) (24.2)\n",
            "Requirement already satisfied: pyyaml>=5.1 in /usr/local/lib/python3.11/dist-packages (from transformers) (6.0.2)\n",
            "Requirement already satisfied: regex!=2019.12.17 in /usr/local/lib/python3.11/dist-packages (from transformers) (2024.11.6)\n",
            "Requirement already satisfied: requests in /usr/local/lib/python3.11/dist-packages (from transformers) (2.32.3)\n",
            "Requirement already satisfied: tokenizers<0.22,>=0.21 in /usr/local/lib/python3.11/dist-packages (from transformers) (0.21.1)\n",
            "Requirement already satisfied: safetensors>=0.4.3 in /usr/local/lib/python3.11/dist-packages (from transformers) (0.5.3)\n",
            "Requirement already satisfied: tqdm>=4.27 in /usr/local/lib/python3.11/dist-packages (from transformers) (4.67.1)\n",
            "Requirement already satisfied: typing-extensions>=4.10.0 in /usr/local/lib/python3.11/dist-packages (from torch) (4.13.2)\n",
            "Requirement already satisfied: networkx in /usr/local/lib/python3.11/dist-packages (from torch) (3.5)\n",
            "Requirement already satisfied: fsspec in /usr/local/lib/python3.11/dist-packages (from torch) (2025.3.2)\n",
            "Requirement already satisfied: nvidia-cuda-nvrtc-cu12==12.4.127 in /usr/local/lib/python3.11/dist-packages (from torch) (12.4.127)\n",
            "Requirement already satisfied: nvidia-cuda-runtime-cu12==12.4.127 in /usr/local/lib/python3.11/dist-packages (from torch) (12.4.127)\n",
            "Requirement already satisfied: nvidia-cuda-cupti-cu12==12.4.127 in /usr/local/lib/python3.11/dist-packages (from torch) (12.4.127)\n",
            "Requirement already satisfied: nvidia-cudnn-cu12==9.1.0.70 in /usr/local/lib/python3.11/dist-packages (from torch) (9.1.0.70)\n",
            "Requirement already satisfied: nvidia-cublas-cu12==12.4.5.8 in /usr/local/lib/python3.11/dist-packages (from torch) (12.4.5.8)\n",
            "Requirement already satisfied: nvidia-cufft-cu12==11.2.1.3 in /usr/local/lib/python3.11/dist-packages (from torch) (11.2.1.3)\n",
            "Requirement already satisfied: nvidia-curand-cu12==10.3.5.147 in /usr/local/lib/python3.11/dist-packages (from torch) (10.3.5.147)\n",
            "Requirement already satisfied: nvidia-cusolver-cu12==11.6.1.9 in /usr/local/lib/python3.11/dist-packages (from torch) (11.6.1.9)\n",
            "Requirement already satisfied: nvidia-cusparse-cu12==12.3.1.170 in /usr/local/lib/python3.11/dist-packages (from torch) (12.3.1.170)\n",
            "Requirement already satisfied: nvidia-cusparselt-cu12==0.6.2 in /usr/local/lib/python3.11/dist-packages (from torch) (0.6.2)\n",
            "Requirement already satisfied: nvidia-nccl-cu12==2.21.5 in /usr/local/lib/python3.11/dist-packages (from torch) (2.21.5)\n",
            "Requirement already satisfied: nvidia-nvtx-cu12==12.4.127 in /usr/local/lib/python3.11/dist-packages (from torch) (12.4.127)\n",
            "Requirement already satisfied: nvidia-nvjitlink-cu12==12.4.127 in /usr/local/lib/python3.11/dist-packages (from torch) (12.4.127)\n",
            "Requirement already satisfied: triton==3.2.0 in /usr/local/lib/python3.11/dist-packages (from torch) (3.2.0)\n",
            "Requirement already satisfied: sympy==1.13.1 in /usr/local/lib/python3.11/dist-packages (from torch) (1.13.1)\n",
            "Requirement already satisfied: mpmath<1.4,>=1.1.0 in /usr/local/lib/python3.11/dist-packages (from sympy==1.13.1->torch) (1.3.0)\n",
            "Requirement already satisfied: hf-xet<2.0.0,>=1.1.2 in /usr/local/lib/python3.11/dist-packages (from huggingface-hub<1.0,>=0.30.0->transformers) (1.1.2)\n",
            "Requirement already satisfied: six>=1.5 in /usr/local/lib/python3.11/dist-packages (from python-dateutil>=2.8.2->pandas) (1.17.0)\n",
            "Requirement already satisfied: charset-normalizer<4,>=2 in /usr/local/lib/python3.11/dist-packages (from requests->transformers) (3.4.2)\n",
            "Requirement already satisfied: idna<4,>=2.5 in /usr/local/lib/python3.11/dist-packages (from requests->transformers) (3.10)\n",
            "Requirement already satisfied: urllib3<3,>=1.21.1 in /usr/local/lib/python3.11/dist-packages (from requests->transformers) (2.4.0)\n",
            "Requirement already satisfied: certifi>=2017.4.17 in /usr/local/lib/python3.11/dist-packages (from requests->transformers) (2025.4.26)\n"
          ]
        }
      ],
      "source": [
        "#!pip uninstall openai -y\n",
        "#!pip install openai==0.28\n",
        "#!pip install pandas python-dotenv Jinja2\n",
        "#import openai\n",
        "#print(f\"OpenAI version after explicit install: {openai.__version__}\")\n",
        "!pip install pandas python-dotenv Jinja2 transformers torch sentencepiece"
      ]
    },
    {
      "cell_type": "code",
      "source": [
        "import os\n",
        "from google.colab import userdata # For Colab secrets\n",
        "\n",
        "#from openai import OpenAI\n",
        "#client = OpenAI(api_key=OPENAI_API_KEY)\n",
        "\n",
        "# Load secrets\n",
        "#OPENAI_API_KEY = userdata.get('OPENAI_API_KEY')\n",
        "EMAIL_HOST = userdata.get('EMAIL_HOST')\n",
        "EMAIL_PORT = int(userdata.get('EMAIL_PORT')) # Ensure port is an integer\n",
        "EMAIL_USER = userdata.get('EMAIL_USER')\n",
        "EMAIL_PASSWORD = userdata.get('EMAIL_PASSWORD')\n",
        "EMAIL_RECIPIENT = userdata.get('EMAIL_RECIPIENT')\n",
        "\n",
        "# OpenAI API configuration\n",
        "import openai\n",
        "openai.api_key = OPENAI_API_KEY\n",
        "\n",
        "# Other Configurations\n",
        "#LLM_MODEL = \"gpt-3.5-turbo-instruct\" # Or \"gpt-3.5-turbo\", \"gpt-4\"\n",
        "#SAMPLE_ROWS = 5\n",
        "\n",
        "#Jinja2 email template\n",
        "EMAIL_TEMPLATE_STR = \"\"\"\n",
        "<!DOCTYPE html>\n",
        "<html lang=\"en\">\n",
        "<head>\n",
        "    <meta charset=\"UTF-8\">\n",
        "    <title>New Data Report</title>\n",
        "    <style>\n",
        "        body { font-family: sans-serif; margin: 20px; color: #333; }\n",
        "        .container { background-color: #f9f9f9; border: 1px solid #ddd; padding: 20px; border-radius: 5px; }\n",
        "        h2 { color: #2c3e50; }\n",
        "        ul { list-style-type: none; padding-left: 0; }\n",
        "        li strong { color: #3498db; }\n",
        "        .summary { background-color: #e8f4f8; border-left: 4px solid #3498db; padding: 10px; margin-top: 15px; font-style: italic;}\n",
        "        .footer { margin-top: 20px; font-size: 0.8em; color: #7f8c8d; }\n",
        "    </style>\n",
        "</head>\n",
        "<body>\n",
        "    <div class=\"container\">\n",
        "        <h2>Chronos Data Scribe Report</h2>\n",
        "        <p>Greetings!</p>\n",
        "        <p>A new data file has been processed for you:</p>\n",
        "        <ul>\n",
        "            <li><strong>File Name:</strong> {{ filename }}</li>\n",
        "            <li><strong>Detected At:</strong> {{ detected_at }}</li>\n",
        "            <li><strong>Full Path:</strong> {{ file_path }}</li>\n",
        "        </ul>\n",
        "        <h3>AI-Generated Summary:</h3>\n",
        "        <div class=\"summary\">\n",
        "            <p>{{ summary }}</p>\n",
        "        </div>\n",
        "        <p class=\"footer\">This is an automated notification from Chronos Data Scribe.</p>\n",
        "    </div>\n",
        "</body>\n",
        "</html>\n",
        "\"\"\"\n",
        "\n",
        "# Logging setup\n",
        "import logging\n",
        "logging.basicConfig(level=logging.INFO, format='%(asctime)s - %(levelname)s - %(message)s')\n",
        "logger = logging.getLogger(\"ChronosScribeColab\")\n",
        "\n",
        "print(\"Configuration loaded.\")"
      ],
      "metadata": {
        "colab": {
          "base_uri": "https://localhost:8080/"
        },
        "id": "gq13PXCWBX3u",
        "outputId": "2130ee1a-b18d-4c35-f0e6-997a3e12a63f"
      },
      "execution_count": 22,
      "outputs": [
        {
          "output_type": "stream",
          "name": "stdout",
          "text": [
            "Configuration loaded.\n"
          ]
        }
      ]
    },
    {
      "cell_type": "code",
      "source": [
        "csv_content = \"\"\"ID,Name,Value,Date\n",
        "ID,Name,Value,Date\n",
        "1,Project Alpha,150,2023-01-10\n",
        "2,Project Beta,220,2023-01-15\n",
        "3,Project Alpha,180,2023-01-20\n",
        "4,Project Gamma,300,2023-01-25\n",
        "5,Project Beta,250,2023-02-01\n",
        "6,Project Alpha,160,2023-02-05\n",
        "7,Project Delta,450,2023-02-10\n",
        "8,Project Beta,230,2023-02-15\n",
        "9,Project Alpha,190,2023-02-20\n",
        "10,Project Gamma,320,2023-02-25\n",
        "11,Project Epsilon,500,2023-03-01\n",
        "12,Project Alpha,170,2023-03-05\n",
        "13,Project Beta,240,2023-03-10\n",
        "14,Project Delta,470,2023-03-15\n",
        "15,Project Alpha,200,2023-03-20\n",
        "16,Project Gamma,310,2023-03-22\n",
        "17,Project Beta,210,2023-03-25\n",
        "18,Project Epsilon,520,2023-03-28\n",
        "19,Project Alpha,175,2023-04-02\n",
        "20,Project Delta,460,2023-04-05\n",
        "21,Data Task A,90,2023-01-12\n",
        "22,Data Task B,110,2023-01-18\n",
        "23,Data Task A,95,2023-02-03\n",
        "24,Data Task C,130,2023-02-12\n",
        "25,Data Task B,105,2023-03-07\n",
        "\"\"\"\n",
        "csv_filename = \"sample_data.csv\"\n",
        "with open(csv_filename, \"w\") as f:\n",
        "    f.write(csv_content)\n",
        "\n",
        "print(f\"Created dummy CSV: {csv_filename}\")"
      ],
      "metadata": {
        "colab": {
          "base_uri": "https://localhost:8080/"
        },
        "id": "Ec0yEcOcFQRz",
        "outputId": "44469810-3899-4d6b-bc45-f57a549dd015"
      },
      "execution_count": 23,
      "outputs": [
        {
          "output_type": "stream",
          "name": "stdout",
          "text": [
            "Created dummy CSV: sample_data.csv\n"
          ]
        }
      ]
    },
    {
      "cell_type": "code",
      "source": [
        "import pandas as pd\n",
        "\n",
        "def get_csv_sample_and_headers(file_path):\n",
        "    \"\"\"Reads CSV, extracts headers and a sample of rows.\"\"\"\n",
        "    try:\n",
        "        df = pd.read_csv(file_path, nrows=SAMPLE_ROWS * 2 if SAMPLE_ROWS > 0 else None) # Read a bit more or all for small samples\n",
        "        if df.empty:\n",
        "             logger.warning(f\"CSV file {file_path} is empty or only headers.\")\n",
        "             return \"No headers (empty/header-only file)\", \"No data (empty/header-only file)\", \"No data (empty/header-only file)\", []\n",
        "\n",
        "        headers_str = \", \".join(df.columns.tolist())\n",
        "        column_list = df.columns.tolist()\n",
        "\n",
        "        if len(df) > SAMPLE_ROWS:\n",
        "            sample_head_df = df.head(SAMPLE_ROWS)\n",
        "            sample_tail_df = df.tail(SAMPLE_ROWS) if len(df) > SAMPLE_ROWS else pd.DataFrame()\n",
        "            sample_data_head_str = sample_head_df.to_string(index=False)\n",
        "            sample_data_tail_str = sample_tail_df.to_string(index=False) if not sample_tail_df.empty else \"Not enough data for tail sample.\"\n",
        "        else:\n",
        "            sample_data_head_str = df.to_string(index=False)\n",
        "            sample_data_tail_str = \"Not enough data for tail sample.\"\n",
        "\n",
        "        return headers_str, sample_data_head_str, sample_data_tail_str, column_list\n",
        "    except pd.errors.EmptyDataError:\n",
        "        logger.warning(f\"CSV file {file_path} is completely empty.\")\n",
        "        return \"No headers (empty file)\", \"No data (empty file)\", \"No data (empty file)\", []\n",
        "    except Exception as e:\n",
        "        logger.error(f\"Error reading CSV {file_path}: {e}\")\n",
        "        raise"
      ],
      "metadata": {
        "id": "1xYlEPpGFUbh"
      },
      "execution_count": 24,
      "outputs": []
    },
    {
      "cell_type": "code",
      "source": [
        "from transformers import pipeline\n",
        "import pandas as pd\n",
        "import os\n",
        "\n",
        "def generate_summary_with_huggingface(filepath, headers_str, sample_data_head_str, sample_data_tail_str, column_list): # Added filepath\n",
        "    \"\"\"Generates summary using a local Hugging Face model.\"\"\"\n",
        "    if summarizer_pipeline is None:\n",
        "        logger.error(\"Hugging Face summarizer pipeline not loaded. Cannot generate summary.\")\n",
        "        return \"Could not generate summary: Summarization model failed to load.\"\n",
        "\n",
        "    filename = os.path.basename(filepath)\n",
        "\n",
        "    intro_sentence = f\"The following data is from a file named '{filename}'. \"\n",
        "    description_sentence = f\"It contains records with fields: {headers_str}. \"\n",
        "    data_representation = \"For example, some records show: \\n\"\n",
        "\n",
        "    try:\n",
        "        df_sample = pd.read_csv(filepath, nrows=SAMPLE_ROWS)\n",
        "        formatted_samples = []\n",
        "        if not df_sample.empty:\n",
        "            for i, row in df_sample.iterrows():\n",
        "                row_desc_parts = []\n",
        "                for col_name in df_sample.columns: # Iterate in original column order\n",
        "                    row_desc_parts.append(f\"{col_name} is '{row[col_name]}'\")\n",
        "                formatted_samples.append(\"One record shows \" + \", and \".join(row_desc_parts) + \".\")\n",
        "            data_representation += \"\\n\".join(formatted_samples)\n",
        "        else:\n",
        "            data_representation += \"The file sample is empty.\"\n",
        "    except Exception as e:\n",
        "        logger.error(f\"Error re-reading CSV for formatting: {e}\")\n",
        "        data_representation += \"Could not display sample records due to an error.\"\n",
        "\n",
        "\n",
        "    text_to_summarize = intro_sentence + description_sentence + data_representation\n",
        "\n",
        "    MAX_INPUT_CHARS = 3500\n",
        "    if len(text_to_summarize) > MAX_INPUT_CHARS:\n",
        "        logger.warning(f\"Input text for {filename} is too long ({len(text_to_summarize)} chars), truncating to {MAX_INPUT_CHARS} chars.\")\n",
        "        text_to_summarize = text_to_summarize[:MAX_INPUT_CHARS]\n",
        "\n",
        "    logger.info(f\"Text to summarize for {filename}:\\n{text_to_summarize}\") # Log the input\n",
        "\n",
        "    try:\n",
        "        logger.info(f\"Generating summary for {filename} using Hugging Face model.\")\n",
        "        summary_output = summarizer_pipeline(text_to_summarize, max_length=100, min_length=25, do_sample=False)\n",
        "\n",
        "        if summary_output and isinstance(summary_output, list) and 'summary_text' in summary_output[0]:\n",
        "            summary = summary_output[0]['summary_text']\n",
        "            logger.info(f\"Summary received for {filename}\")\n",
        "            return summary.strip()\n",
        "        else:\n",
        "            logger.error(f\"Hugging Face summarizer returned unexpected output format: {summary_output}\")\n",
        "            return \"Could not generate summary (HF model returned unexpected format).\"\n",
        "    except Exception as e:\n",
        "        logger.error(f\"Error calling Hugging Face summarizer for {filename}: {e}\")\n",
        "        return f\"Could not generate AI summary due to an error with the local model: {e}\""
      ],
      "metadata": {
        "id": "YfdJIvNgFXb1"
      },
      "execution_count": 25,
      "outputs": []
    },
    {
      "cell_type": "code",
      "source": [
        "import smtplib\n",
        "from email.mime.text import MIMEText\n",
        "from email.mime.multipart import MIMEMultipart\n",
        "from jinja2 import Environment, BaseLoader\n",
        "from datetime import datetime\n",
        "\n",
        "def send_notification_email(filename, file_path_in_colab, summary_text):\n",
        "    \"\"\"Sends an email notification.\"\"\"\n",
        "    if not all([EMAIL_HOST, EMAIL_PORT, EMAIL_USER, EMAIL_PASSWORD, EMAIL_RECIPIENT]):\n",
        "        logger.error(\"Email configuration is incomplete. Cannot send notification.\")\n",
        "        return\n",
        "\n",
        "    # Use Jinja2 with the template string defined earlier\n",
        "    jinja_env = Environment(loader=BaseLoader()) # BaseLoader for string templates\n",
        "    template = jinja_env.from_string(EMAIL_TEMPLATE_STR)\n",
        "\n",
        "    html_content = template.render(\n",
        "        filename=filename,\n",
        "        detected_at=datetime.now().strftime(\"%Y-%m-%d %H:%M:%S\"),\n",
        "        file_path=file_path_in_colab,\n",
        "        summary=summary_text\n",
        "    )\n",
        "\n",
        "    msg = MIMEMultipart('alternative')\n",
        "    msg['Subject'] = f\"[Chronos Scribe Colab] New Data Report: {filename}\"\n",
        "    msg['From'] = EMAIL_USER\n",
        "    msg['To'] = EMAIL_RECIPIENT\n",
        "    msg.attach(MIMEText(html_content, 'html'))\n",
        "\n",
        "    try:\n",
        "        with smtplib.SMTP(EMAIL_HOST, EMAIL_PORT) as server:\n",
        "            server.starttls()\n",
        "            server.login(EMAIL_USER, EMAIL_PASSWORD)\n",
        "            server.sendmail(EMAIL_USER, EMAIL_RECIPIENT, msg.as_string())\n",
        "        logger.info(f\"Notification email sent for {filename} to {EMAIL_RECIPIENT}\")\n",
        "    except Exception as e:\n",
        "        logger.error(f\"Failed to send email: {e}\")"
      ],
      "metadata": {
        "id": "7u982fIxGtFN"
      },
      "execution_count": 26,
      "outputs": []
    },
    {
      "cell_type": "code",
      "source": [
        "def process_single_file(filepath):\n",
        "    filename = os.path.basename(filepath)\n",
        "    logger.info(f\"--- Processing {filename} ---\")\n",
        "\n",
        "    try:\n",
        "        headers, sample_head, sample_tail, col_list = get_csv_sample_and_headers(filepath)\n",
        "\n",
        "        if headers == \"No headers (empty file)\" or headers == \"No headers (empty/header-only file)\":\n",
        "            logger.info(f\"Skipping {filename} as it's empty or has no data rows.\")\n",
        "            return\n",
        "\n",
        "        summary = generate_summary_with_huggingface(filename, headers, sample_head, sample_tail, col_list)\n",
        "        print(f\"\\nGenerated Summary for {filename}:\\n{summary}\\n\")\n",
        "\n",
        "        send_notification_email(filename, filepath, summary)\n",
        "\n",
        "    except Exception as e:\n",
        "        logger.error(f\"Error processing file {filename}: {e}\")\n",
        "        send_notification_email(filename, filepath, f\"Error processing file: {e}. Manual review needed.\")\n",
        "\n",
        "# --- Test with the dummy CSV ---\n",
        "test_csv_path = csv_filename\n",
        "process_single_file(test_csv_path)"
      ],
      "metadata": {
        "colab": {
          "base_uri": "https://localhost:8080/"
        },
        "id": "dAyMrrwMHhvx",
        "outputId": "b83322f7-64c0-47ca-9006-4769b482166a"
      },
      "execution_count": 27,
      "outputs": [
        {
          "output_type": "stream",
          "name": "stdout",
          "text": [
            "\n",
            "Generated Summary for sample_data.csv:\n",
            "The following data is from a file named 'sample_data.csv' It contains records with fields: ID, Name, Value, Date . Some records show ID is 'ID', and Name is 'Name', and Value is 'Value', and Date is 'Date'\n",
            "\n"
          ]
        }
      ]
    }
  ]
}