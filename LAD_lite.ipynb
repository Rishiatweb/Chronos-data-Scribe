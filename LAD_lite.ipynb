{
  "nbformat": 4,
  "nbformat_minor": 0,
  "metadata": {
    "colab": {
      "provenance": [],
      "gpuType": "T4",
      "authorship_tag": "ABX9TyNcjR1IoPGZZzRfls0BTKz4",
      "include_colab_link": true
    },
    "kernelspec": {
      "name": "python3",
      "display_name": "Python 3"
    },
    "language_info": {
      "name": "python"
    },
    "accelerator": "GPU",
    "widgets": {
      "application/vnd.jupyter.widget-state+json": {
        "b7385f13dbab4fe4809309d202c3e147": {
          "model_module": "@jupyter-widgets/controls",
          "model_name": "HBoxModel",
          "model_module_version": "1.5.0",
          "state": {
            "_dom_classes": [],
            "_model_module": "@jupyter-widgets/controls",
            "_model_module_version": "1.5.0",
            "_model_name": "HBoxModel",
            "_view_count": null,
            "_view_module": "@jupyter-widgets/controls",
            "_view_module_version": "1.5.0",
            "_view_name": "HBoxView",
            "box_style": "",
            "children": [
              "IPY_MODEL_fa60fda03ccf42dd93c798fbc0ad999f",
              "IPY_MODEL_b4c0157693ed4d2bbbd9581828d2860b",
              "IPY_MODEL_942bd8d7123a4484ab686e98a2d59920"
            ],
            "layout": "IPY_MODEL_aed1a9b5aa4b43f6aae70b70f86eebe7"
          }
        },
        "fa60fda03ccf42dd93c798fbc0ad999f": {
          "model_module": "@jupyter-widgets/controls",
          "model_name": "HTMLModel",
          "model_module_version": "1.5.0",
          "state": {
            "_dom_classes": [],
            "_model_module": "@jupyter-widgets/controls",
            "_model_module_version": "1.5.0",
            "_model_name": "HTMLModel",
            "_view_count": null,
            "_view_module": "@jupyter-widgets/controls",
            "_view_module_version": "1.5.0",
            "_view_name": "HTMLView",
            "description": "",
            "description_tooltip": null,
            "layout": "IPY_MODEL_e2efbe956c0e44c4a28029b0123c86dd",
            "placeholder": "​",
            "style": "IPY_MODEL_18c3becc155f4d80b074d0af77bdf698",
            "value": "Batches: 100%"
          }
        },
        "b4c0157693ed4d2bbbd9581828d2860b": {
          "model_module": "@jupyter-widgets/controls",
          "model_name": "FloatProgressModel",
          "model_module_version": "1.5.0",
          "state": {
            "_dom_classes": [],
            "_model_module": "@jupyter-widgets/controls",
            "_model_module_version": "1.5.0",
            "_model_name": "FloatProgressModel",
            "_view_count": null,
            "_view_module": "@jupyter-widgets/controls",
            "_view_module_version": "1.5.0",
            "_view_name": "ProgressView",
            "bar_style": "success",
            "description": "",
            "description_tooltip": null,
            "layout": "IPY_MODEL_86edcbeaaf3048c980b3a33712c95d6e",
            "max": 4,
            "min": 0,
            "orientation": "horizontal",
            "style": "IPY_MODEL_3ac8906fe6554add8ed7dbc767aefc5e",
            "value": 4
          }
        },
        "942bd8d7123a4484ab686e98a2d59920": {
          "model_module": "@jupyter-widgets/controls",
          "model_name": "HTMLModel",
          "model_module_version": "1.5.0",
          "state": {
            "_dom_classes": [],
            "_model_module": "@jupyter-widgets/controls",
            "_model_module_version": "1.5.0",
            "_model_name": "HTMLModel",
            "_view_count": null,
            "_view_module": "@jupyter-widgets/controls",
            "_view_module_version": "1.5.0",
            "_view_name": "HTMLView",
            "description": "",
            "description_tooltip": null,
            "layout": "IPY_MODEL_cdf96c51431042778fcf103698e64598",
            "placeholder": "​",
            "style": "IPY_MODEL_7ecaf8f3d1044344b6c9af5e5466c892",
            "value": " 4/4 [00:00&lt;00:00,  3.70it/s]"
          }
        },
        "aed1a9b5aa4b43f6aae70b70f86eebe7": {
          "model_module": "@jupyter-widgets/base",
          "model_name": "LayoutModel",
          "model_module_version": "1.2.0",
          "state": {
            "_model_module": "@jupyter-widgets/base",
            "_model_module_version": "1.2.0",
            "_model_name": "LayoutModel",
            "_view_count": null,
            "_view_module": "@jupyter-widgets/base",
            "_view_module_version": "1.2.0",
            "_view_name": "LayoutView",
            "align_content": null,
            "align_items": null,
            "align_self": null,
            "border": null,
            "bottom": null,
            "display": null,
            "flex": null,
            "flex_flow": null,
            "grid_area": null,
            "grid_auto_columns": null,
            "grid_auto_flow": null,
            "grid_auto_rows": null,
            "grid_column": null,
            "grid_gap": null,
            "grid_row": null,
            "grid_template_areas": null,
            "grid_template_columns": null,
            "grid_template_rows": null,
            "height": null,
            "justify_content": null,
            "justify_items": null,
            "left": null,
            "margin": null,
            "max_height": null,
            "max_width": null,
            "min_height": null,
            "min_width": null,
            "object_fit": null,
            "object_position": null,
            "order": null,
            "overflow": null,
            "overflow_x": null,
            "overflow_y": null,
            "padding": null,
            "right": null,
            "top": null,
            "visibility": null,
            "width": null
          }
        },
        "e2efbe956c0e44c4a28029b0123c86dd": {
          "model_module": "@jupyter-widgets/base",
          "model_name": "LayoutModel",
          "model_module_version": "1.2.0",
          "state": {
            "_model_module": "@jupyter-widgets/base",
            "_model_module_version": "1.2.0",
            "_model_name": "LayoutModel",
            "_view_count": null,
            "_view_module": "@jupyter-widgets/base",
            "_view_module_version": "1.2.0",
            "_view_name": "LayoutView",
            "align_content": null,
            "align_items": null,
            "align_self": null,
            "border": null,
            "bottom": null,
            "display": null,
            "flex": null,
            "flex_flow": null,
            "grid_area": null,
            "grid_auto_columns": null,
            "grid_auto_flow": null,
            "grid_auto_rows": null,
            "grid_column": null,
            "grid_gap": null,
            "grid_row": null,
            "grid_template_areas": null,
            "grid_template_columns": null,
            "grid_template_rows": null,
            "height": null,
            "justify_content": null,
            "justify_items": null,
            "left": null,
            "margin": null,
            "max_height": null,
            "max_width": null,
            "min_height": null,
            "min_width": null,
            "object_fit": null,
            "object_position": null,
            "order": null,
            "overflow": null,
            "overflow_x": null,
            "overflow_y": null,
            "padding": null,
            "right": null,
            "top": null,
            "visibility": null,
            "width": null
          }
        },
        "18c3becc155f4d80b074d0af77bdf698": {
          "model_module": "@jupyter-widgets/controls",
          "model_name": "DescriptionStyleModel",
          "model_module_version": "1.5.0",
          "state": {
            "_model_module": "@jupyter-widgets/controls",
            "_model_module_version": "1.5.0",
            "_model_name": "DescriptionStyleModel",
            "_view_count": null,
            "_view_module": "@jupyter-widgets/base",
            "_view_module_version": "1.2.0",
            "_view_name": "StyleView",
            "description_width": ""
          }
        },
        "86edcbeaaf3048c980b3a33712c95d6e": {
          "model_module": "@jupyter-widgets/base",
          "model_name": "LayoutModel",
          "model_module_version": "1.2.0",
          "state": {
            "_model_module": "@jupyter-widgets/base",
            "_model_module_version": "1.2.0",
            "_model_name": "LayoutModel",
            "_view_count": null,
            "_view_module": "@jupyter-widgets/base",
            "_view_module_version": "1.2.0",
            "_view_name": "LayoutView",
            "align_content": null,
            "align_items": null,
            "align_self": null,
            "border": null,
            "bottom": null,
            "display": null,
            "flex": null,
            "flex_flow": null,
            "grid_area": null,
            "grid_auto_columns": null,
            "grid_auto_flow": null,
            "grid_auto_rows": null,
            "grid_column": null,
            "grid_gap": null,
            "grid_row": null,
            "grid_template_areas": null,
            "grid_template_columns": null,
            "grid_template_rows": null,
            "height": null,
            "justify_content": null,
            "justify_items": null,
            "left": null,
            "margin": null,
            "max_height": null,
            "max_width": null,
            "min_height": null,
            "min_width": null,
            "object_fit": null,
            "object_position": null,
            "order": null,
            "overflow": null,
            "overflow_x": null,
            "overflow_y": null,
            "padding": null,
            "right": null,
            "top": null,
            "visibility": null,
            "width": null
          }
        },
        "3ac8906fe6554add8ed7dbc767aefc5e": {
          "model_module": "@jupyter-widgets/controls",
          "model_name": "ProgressStyleModel",
          "model_module_version": "1.5.0",
          "state": {
            "_model_module": "@jupyter-widgets/controls",
            "_model_module_version": "1.5.0",
            "_model_name": "ProgressStyleModel",
            "_view_count": null,
            "_view_module": "@jupyter-widgets/base",
            "_view_module_version": "1.2.0",
            "_view_name": "StyleView",
            "bar_color": null,
            "description_width": ""
          }
        },
        "cdf96c51431042778fcf103698e64598": {
          "model_module": "@jupyter-widgets/base",
          "model_name": "LayoutModel",
          "model_module_version": "1.2.0",
          "state": {
            "_model_module": "@jupyter-widgets/base",
            "_model_module_version": "1.2.0",
            "_model_name": "LayoutModel",
            "_view_count": null,
            "_view_module": "@jupyter-widgets/base",
            "_view_module_version": "1.2.0",
            "_view_name": "LayoutView",
            "align_content": null,
            "align_items": null,
            "align_self": null,
            "border": null,
            "bottom": null,
            "display": null,
            "flex": null,
            "flex_flow": null,
            "grid_area": null,
            "grid_auto_columns": null,
            "grid_auto_flow": null,
            "grid_auto_rows": null,
            "grid_column": null,
            "grid_gap": null,
            "grid_row": null,
            "grid_template_areas": null,
            "grid_template_columns": null,
            "grid_template_rows": null,
            "height": null,
            "justify_content": null,
            "justify_items": null,
            "left": null,
            "margin": null,
            "max_height": null,
            "max_width": null,
            "min_height": null,
            "min_width": null,
            "object_fit": null,
            "object_position": null,
            "order": null,
            "overflow": null,
            "overflow_x": null,
            "overflow_y": null,
            "padding": null,
            "right": null,
            "top": null,
            "visibility": null,
            "width": null
          }
        },
        "7ecaf8f3d1044344b6c9af5e5466c892": {
          "model_module": "@jupyter-widgets/controls",
          "model_name": "DescriptionStyleModel",
          "model_module_version": "1.5.0",
          "state": {
            "_model_module": "@jupyter-widgets/controls",
            "_model_module_version": "1.5.0",
            "_model_name": "DescriptionStyleModel",
            "_view_count": null,
            "_view_module": "@jupyter-widgets/base",
            "_view_module_version": "1.2.0",
            "_view_name": "StyleView",
            "description_width": ""
          }
        }
      }
    }
  },
  "cells": [
    {
      "cell_type": "markdown",
      "metadata": {
        "id": "view-in-github",
        "colab_type": "text"
      },
      "source": [
        "<a href=\"https://colab.research.google.com/github/Rishiatweb/Chronos-data-Scribe/blob/main/LAD_lite.ipynb\" target=\"_parent\"><img src=\"https://colab.research.google.com/assets/colab-badge.svg\" alt=\"Open In Colab\"/></a>"
      ]
    },
    {
      "cell_type": "code",
      "execution_count": null,
      "metadata": {
        "colab": {
          "base_uri": "https://localhost:8080/"
        },
        "collapsed": true,
        "id": "vl-tOWtw4O8j",
        "outputId": "c8a11c08-c977-4b16-bf4c-44c620377b30"
      },
      "outputs": [
        {
          "output_type": "stream",
          "name": "stdout",
          "text": [
            "Requirement already satisfied: sentence-transformers in /usr/local/lib/python3.11/dist-packages (4.1.0)\n",
            "Requirement already satisfied: scikit-learn in /usr/local/lib/python3.11/dist-packages (1.6.1)\n",
            "Requirement already satisfied: pandas in /usr/local/lib/python3.11/dist-packages (2.2.2)\n",
            "Requirement already satisfied: numpy in /usr/local/lib/python3.11/dist-packages (2.0.2)\n",
            "Requirement already satisfied: transformers<5.0.0,>=4.41.0 in /usr/local/lib/python3.11/dist-packages (from sentence-transformers) (4.52.4)\n",
            "Requirement already satisfied: tqdm in /usr/local/lib/python3.11/dist-packages (from sentence-transformers) (4.67.1)\n",
            "Requirement already satisfied: torch>=1.11.0 in /usr/local/lib/python3.11/dist-packages (from sentence-transformers) (2.6.0+cu124)\n",
            "Requirement already satisfied: scipy in /usr/local/lib/python3.11/dist-packages (from sentence-transformers) (1.15.3)\n",
            "Requirement already satisfied: huggingface-hub>=0.20.0 in /usr/local/lib/python3.11/dist-packages (from sentence-transformers) (0.32.4)\n",
            "Requirement already satisfied: Pillow in /usr/local/lib/python3.11/dist-packages (from sentence-transformers) (11.2.1)\n",
            "Requirement already satisfied: typing_extensions>=4.5.0 in /usr/local/lib/python3.11/dist-packages (from sentence-transformers) (4.14.0)\n",
            "Requirement already satisfied: joblib>=1.2.0 in /usr/local/lib/python3.11/dist-packages (from scikit-learn) (1.5.1)\n",
            "Requirement already satisfied: threadpoolctl>=3.1.0 in /usr/local/lib/python3.11/dist-packages (from scikit-learn) (3.6.0)\n",
            "Requirement already satisfied: python-dateutil>=2.8.2 in /usr/local/lib/python3.11/dist-packages (from pandas) (2.9.0.post0)\n",
            "Requirement already satisfied: pytz>=2020.1 in /usr/local/lib/python3.11/dist-packages (from pandas) (2025.2)\n",
            "Requirement already satisfied: tzdata>=2022.7 in /usr/local/lib/python3.11/dist-packages (from pandas) (2025.2)\n",
            "Requirement already satisfied: filelock in /usr/local/lib/python3.11/dist-packages (from huggingface-hub>=0.20.0->sentence-transformers) (3.18.0)\n",
            "Requirement already satisfied: fsspec>=2023.5.0 in /usr/local/lib/python3.11/dist-packages (from huggingface-hub>=0.20.0->sentence-transformers) (2025.3.2)\n",
            "Requirement already satisfied: packaging>=20.9 in /usr/local/lib/python3.11/dist-packages (from huggingface-hub>=0.20.0->sentence-transformers) (24.2)\n",
            "Requirement already satisfied: pyyaml>=5.1 in /usr/local/lib/python3.11/dist-packages (from huggingface-hub>=0.20.0->sentence-transformers) (6.0.2)\n",
            "Requirement already satisfied: requests in /usr/local/lib/python3.11/dist-packages (from huggingface-hub>=0.20.0->sentence-transformers) (2.32.3)\n",
            "Requirement already satisfied: hf-xet<2.0.0,>=1.1.2 in /usr/local/lib/python3.11/dist-packages (from huggingface-hub>=0.20.0->sentence-transformers) (1.1.2)\n",
            "Requirement already satisfied: six>=1.5 in /usr/local/lib/python3.11/dist-packages (from python-dateutil>=2.8.2->pandas) (1.17.0)\n",
            "Requirement already satisfied: networkx in /usr/local/lib/python3.11/dist-packages (from torch>=1.11.0->sentence-transformers) (3.5)\n",
            "Requirement already satisfied: jinja2 in /usr/local/lib/python3.11/dist-packages (from torch>=1.11.0->sentence-transformers) (3.1.6)\n",
            "Requirement already satisfied: nvidia-cuda-nvrtc-cu12==12.4.127 in /usr/local/lib/python3.11/dist-packages (from torch>=1.11.0->sentence-transformers) (12.4.127)\n",
            "Requirement already satisfied: nvidia-cuda-runtime-cu12==12.4.127 in /usr/local/lib/python3.11/dist-packages (from torch>=1.11.0->sentence-transformers) (12.4.127)\n",
            "Requirement already satisfied: nvidia-cuda-cupti-cu12==12.4.127 in /usr/local/lib/python3.11/dist-packages (from torch>=1.11.0->sentence-transformers) (12.4.127)\n",
            "Requirement already satisfied: nvidia-cudnn-cu12==9.1.0.70 in /usr/local/lib/python3.11/dist-packages (from torch>=1.11.0->sentence-transformers) (9.1.0.70)\n",
            "Requirement already satisfied: nvidia-cublas-cu12==12.4.5.8 in /usr/local/lib/python3.11/dist-packages (from torch>=1.11.0->sentence-transformers) (12.4.5.8)\n",
            "Requirement already satisfied: nvidia-cufft-cu12==11.2.1.3 in /usr/local/lib/python3.11/dist-packages (from torch>=1.11.0->sentence-transformers) (11.2.1.3)\n",
            "Requirement already satisfied: nvidia-curand-cu12==10.3.5.147 in /usr/local/lib/python3.11/dist-packages (from torch>=1.11.0->sentence-transformers) (10.3.5.147)\n",
            "Requirement already satisfied: nvidia-cusolver-cu12==11.6.1.9 in /usr/local/lib/python3.11/dist-packages (from torch>=1.11.0->sentence-transformers) (11.6.1.9)\n",
            "Requirement already satisfied: nvidia-cusparse-cu12==12.3.1.170 in /usr/local/lib/python3.11/dist-packages (from torch>=1.11.0->sentence-transformers) (12.3.1.170)\n",
            "Requirement already satisfied: nvidia-cusparselt-cu12==0.6.2 in /usr/local/lib/python3.11/dist-packages (from torch>=1.11.0->sentence-transformers) (0.6.2)\n",
            "Requirement already satisfied: nvidia-nccl-cu12==2.21.5 in /usr/local/lib/python3.11/dist-packages (from torch>=1.11.0->sentence-transformers) (2.21.5)\n",
            "Requirement already satisfied: nvidia-nvtx-cu12==12.4.127 in /usr/local/lib/python3.11/dist-packages (from torch>=1.11.0->sentence-transformers) (12.4.127)\n",
            "Requirement already satisfied: nvidia-nvjitlink-cu12==12.4.127 in /usr/local/lib/python3.11/dist-packages (from torch>=1.11.0->sentence-transformers) (12.4.127)\n",
            "Requirement already satisfied: triton==3.2.0 in /usr/local/lib/python3.11/dist-packages (from torch>=1.11.0->sentence-transformers) (3.2.0)\n",
            "Requirement already satisfied: sympy==1.13.1 in /usr/local/lib/python3.11/dist-packages (from torch>=1.11.0->sentence-transformers) (1.13.1)\n",
            "Requirement already satisfied: mpmath<1.4,>=1.1.0 in /usr/local/lib/python3.11/dist-packages (from sympy==1.13.1->torch>=1.11.0->sentence-transformers) (1.3.0)\n",
            "Requirement already satisfied: regex!=2019.12.17 in /usr/local/lib/python3.11/dist-packages (from transformers<5.0.0,>=4.41.0->sentence-transformers) (2024.11.6)\n",
            "Requirement already satisfied: tokenizers<0.22,>=0.21 in /usr/local/lib/python3.11/dist-packages (from transformers<5.0.0,>=4.41.0->sentence-transformers) (0.21.1)\n",
            "Requirement already satisfied: safetensors>=0.4.3 in /usr/local/lib/python3.11/dist-packages (from transformers<5.0.0,>=4.41.0->sentence-transformers) (0.5.3)\n",
            "Requirement already satisfied: MarkupSafe>=2.0 in /usr/local/lib/python3.11/dist-packages (from jinja2->torch>=1.11.0->sentence-transformers) (3.0.2)\n",
            "Requirement already satisfied: charset-normalizer<4,>=2 in /usr/local/lib/python3.11/dist-packages (from requests->huggingface-hub>=0.20.0->sentence-transformers) (3.4.2)\n",
            "Requirement already satisfied: idna<4,>=2.5 in /usr/local/lib/python3.11/dist-packages (from requests->huggingface-hub>=0.20.0->sentence-transformers) (3.10)\n",
            "Requirement already satisfied: urllib3<3,>=1.21.1 in /usr/local/lib/python3.11/dist-packages (from requests->huggingface-hub>=0.20.0->sentence-transformers) (2.4.0)\n",
            "Requirement already satisfied: certifi>=2017.4.17 in /usr/local/lib/python3.11/dist-packages (from requests->huggingface-hub>=0.20.0->sentence-transformers) (2025.4.26)\n"
          ]
        }
      ],
      "source": [
        "!pip install sentence-transformers scikit-learn pandas numpy"
      ]
    },
    {
      "cell_type": "code",
      "source": [
        "from google.colab import files\n",
        "import io\n",
        "print(\"Please upload your log file(e.g. app.log, server.txt): \")\n",
        "uploaded = files.upload()\n",
        "if not uploaded:\n",
        "  print(\"\\nNo file uploaded. Please upload a file to proceed.\")\n",
        "  log_lines = []\n",
        "  log_filename = None\n",
        "else:\n",
        "  log_filename = list(uploaded.keys())[0]\n",
        "  print(f\"\\nUploaded '{log_filename}' ({len(uploaded[log_filename])} bytes)\")\n",
        "  # Read the log lines\n",
        "  log_content = uploaded[log_filename].decode('utf-8', errors='ignore') # Decode, ignore errors for robustness\n",
        "  log_lines = log_content.splitlines()\n",
        "  log_lines = [line.strip() for line in log_lines if line.strip()] # Remove empty lines and leading/trailing whitespace\n",
        "if log_lines:\n",
        "  print(f\"Read {len(log_lines)} non-empty log lines.\")\n",
        "  # Display a few lines for verification\n",
        "  print(\"\\nFirst few log lines:\")\n",
        "  for i, line in enumerate(log_lines[:5]):\n",
        "    print(f\"{i+1}: {line}\")\n",
        "elif log_filename: # File was uploaded but resulted in no lines\n",
        "    print(\"The uploaded file contains no processable log lines after stripping.\")"
      ],
      "metadata": {
        "colab": {
          "base_uri": "https://localhost:8080/",
          "height": 262
        },
        "collapsed": true,
        "id": "lcH7xmmw5tdl",
        "outputId": "833170f5-de61-473d-cbeb-801a9999e3b0"
      },
      "execution_count": null,
      "outputs": [
        {
          "output_type": "stream",
          "name": "stdout",
          "text": [
            "Please upload your log file(e.g. app.log, server.txt): \n"
          ]
        },
        {
          "output_type": "display_data",
          "data": {
            "text/plain": [
              "<IPython.core.display.HTML object>"
            ],
            "text/html": [
              "\n",
              "     <input type=\"file\" id=\"files-cd0ed70d-ea73-402c-b8d0-90d5b7a21366\" name=\"files[]\" multiple disabled\n",
              "        style=\"border:none\" />\n",
              "     <output id=\"result-cd0ed70d-ea73-402c-b8d0-90d5b7a21366\">\n",
              "      Upload widget is only available when the cell has been executed in the\n",
              "      current browser session. Please rerun this cell to enable.\n",
              "      </output>\n",
              "      <script>// Copyright 2017 Google LLC\n",
              "//\n",
              "// Licensed under the Apache License, Version 2.0 (the \"License\");\n",
              "// you may not use this file except in compliance with the License.\n",
              "// You may obtain a copy of the License at\n",
              "//\n",
              "//      http://www.apache.org/licenses/LICENSE-2.0\n",
              "//\n",
              "// Unless required by applicable law or agreed to in writing, software\n",
              "// distributed under the License is distributed on an \"AS IS\" BASIS,\n",
              "// WITHOUT WARRANTIES OR CONDITIONS OF ANY KIND, either express or implied.\n",
              "// See the License for the specific language governing permissions and\n",
              "// limitations under the License.\n",
              "\n",
              "/**\n",
              " * @fileoverview Helpers for google.colab Python module.\n",
              " */\n",
              "(function(scope) {\n",
              "function span(text, styleAttributes = {}) {\n",
              "  const element = document.createElement('span');\n",
              "  element.textContent = text;\n",
              "  for (const key of Object.keys(styleAttributes)) {\n",
              "    element.style[key] = styleAttributes[key];\n",
              "  }\n",
              "  return element;\n",
              "}\n",
              "\n",
              "// Max number of bytes which will be uploaded at a time.\n",
              "const MAX_PAYLOAD_SIZE = 100 * 1024;\n",
              "\n",
              "function _uploadFiles(inputId, outputId) {\n",
              "  const steps = uploadFilesStep(inputId, outputId);\n",
              "  const outputElement = document.getElementById(outputId);\n",
              "  // Cache steps on the outputElement to make it available for the next call\n",
              "  // to uploadFilesContinue from Python.\n",
              "  outputElement.steps = steps;\n",
              "\n",
              "  return _uploadFilesContinue(outputId);\n",
              "}\n",
              "\n",
              "// This is roughly an async generator (not supported in the browser yet),\n",
              "// where there are multiple asynchronous steps and the Python side is going\n",
              "// to poll for completion of each step.\n",
              "// This uses a Promise to block the python side on completion of each step,\n",
              "// then passes the result of the previous step as the input to the next step.\n",
              "function _uploadFilesContinue(outputId) {\n",
              "  const outputElement = document.getElementById(outputId);\n",
              "  const steps = outputElement.steps;\n",
              "\n",
              "  const next = steps.next(outputElement.lastPromiseValue);\n",
              "  return Promise.resolve(next.value.promise).then((value) => {\n",
              "    // Cache the last promise value to make it available to the next\n",
              "    // step of the generator.\n",
              "    outputElement.lastPromiseValue = value;\n",
              "    return next.value.response;\n",
              "  });\n",
              "}\n",
              "\n",
              "/**\n",
              " * Generator function which is called between each async step of the upload\n",
              " * process.\n",
              " * @param {string} inputId Element ID of the input file picker element.\n",
              " * @param {string} outputId Element ID of the output display.\n",
              " * @return {!Iterable<!Object>} Iterable of next steps.\n",
              " */\n",
              "function* uploadFilesStep(inputId, outputId) {\n",
              "  const inputElement = document.getElementById(inputId);\n",
              "  inputElement.disabled = false;\n",
              "\n",
              "  const outputElement = document.getElementById(outputId);\n",
              "  outputElement.innerHTML = '';\n",
              "\n",
              "  const pickedPromise = new Promise((resolve) => {\n",
              "    inputElement.addEventListener('change', (e) => {\n",
              "      resolve(e.target.files);\n",
              "    });\n",
              "  });\n",
              "\n",
              "  const cancel = document.createElement('button');\n",
              "  inputElement.parentElement.appendChild(cancel);\n",
              "  cancel.textContent = 'Cancel upload';\n",
              "  const cancelPromise = new Promise((resolve) => {\n",
              "    cancel.onclick = () => {\n",
              "      resolve(null);\n",
              "    };\n",
              "  });\n",
              "\n",
              "  // Wait for the user to pick the files.\n",
              "  const files = yield {\n",
              "    promise: Promise.race([pickedPromise, cancelPromise]),\n",
              "    response: {\n",
              "      action: 'starting',\n",
              "    }\n",
              "  };\n",
              "\n",
              "  cancel.remove();\n",
              "\n",
              "  // Disable the input element since further picks are not allowed.\n",
              "  inputElement.disabled = true;\n",
              "\n",
              "  if (!files) {\n",
              "    return {\n",
              "      response: {\n",
              "        action: 'complete',\n",
              "      }\n",
              "    };\n",
              "  }\n",
              "\n",
              "  for (const file of files) {\n",
              "    const li = document.createElement('li');\n",
              "    li.append(span(file.name, {fontWeight: 'bold'}));\n",
              "    li.append(span(\n",
              "        `(${file.type || 'n/a'}) - ${file.size} bytes, ` +\n",
              "        `last modified: ${\n",
              "            file.lastModifiedDate ? file.lastModifiedDate.toLocaleDateString() :\n",
              "                                    'n/a'} - `));\n",
              "    const percent = span('0% done');\n",
              "    li.appendChild(percent);\n",
              "\n",
              "    outputElement.appendChild(li);\n",
              "\n",
              "    const fileDataPromise = new Promise((resolve) => {\n",
              "      const reader = new FileReader();\n",
              "      reader.onload = (e) => {\n",
              "        resolve(e.target.result);\n",
              "      };\n",
              "      reader.readAsArrayBuffer(file);\n",
              "    });\n",
              "    // Wait for the data to be ready.\n",
              "    let fileData = yield {\n",
              "      promise: fileDataPromise,\n",
              "      response: {\n",
              "        action: 'continue',\n",
              "      }\n",
              "    };\n",
              "\n",
              "    // Use a chunked sending to avoid message size limits. See b/62115660.\n",
              "    let position = 0;\n",
              "    do {\n",
              "      const length = Math.min(fileData.byteLength - position, MAX_PAYLOAD_SIZE);\n",
              "      const chunk = new Uint8Array(fileData, position, length);\n",
              "      position += length;\n",
              "\n",
              "      const base64 = btoa(String.fromCharCode.apply(null, chunk));\n",
              "      yield {\n",
              "        response: {\n",
              "          action: 'append',\n",
              "          file: file.name,\n",
              "          data: base64,\n",
              "        },\n",
              "      };\n",
              "\n",
              "      let percentDone = fileData.byteLength === 0 ?\n",
              "          100 :\n",
              "          Math.round((position / fileData.byteLength) * 100);\n",
              "      percent.textContent = `${percentDone}% done`;\n",
              "\n",
              "    } while (position < fileData.byteLength);\n",
              "  }\n",
              "\n",
              "  // All done.\n",
              "  yield {\n",
              "    response: {\n",
              "      action: 'complete',\n",
              "    }\n",
              "  };\n",
              "}\n",
              "\n",
              "scope.google = scope.google || {};\n",
              "scope.google.colab = scope.google.colab || {};\n",
              "scope.google.colab._files = {\n",
              "  _uploadFiles,\n",
              "  _uploadFilesContinue,\n",
              "};\n",
              "})(self);\n",
              "</script> "
            ]
          },
          "metadata": {}
        },
        {
          "output_type": "stream",
          "name": "stdout",
          "text": [
            "Saving LOG(1).txt to LOG(1) (2).txt\n",
            "\n",
            "Uploaded 'LOG(1) (2).txt' (10169 bytes)\n",
            "Read 122 non-empty log lines.\n",
            "\n",
            "First few log lines:\n",
            "1: 2023-10-26 10:00:01 INFO: Application startup initiated. Version 1.2.3\n",
            "2: 2023-10-26 10:00:02 INFO: Configuration loaded from /etc/app/config.xml\n",
            "3: 2023-10-26 10:00:03 DEBUG: Database connection pool initialized with 10 connections.\n",
            "4: 2023-10-26 10:00:04 INFO: Listening on port 8080\n",
            "5: 2023-10-26 10:01:15 INFO: User 'alice' logged in successfully from IP 192.168.1.10\n"
          ]
        }
      ]
    },
    {
      "cell_type": "code",
      "source": [
        "from sentence_transformers import SentenceTransformer\n",
        "import numpy as np\n",
        "if log_lines:\n",
        "  print(\"\\nLoading sentence transformer model...\")\n",
        "  model_name = 'all-MiniLM-L6-v2'\n",
        "  try:\n",
        "    embedder = SentenceTransformer(model_name)\n",
        "    print(f\"Model '{model_name}' loaded successfully.\")\n",
        "\n",
        "    print(\"Generative embeddings for log lines...\")\n",
        "    log_embeddings = embedder.encode(log_lines, show_progress_bar=True)\n",
        "    print(f\"Generated {log_embeddings.shape[0]} embeddings with dimension {log_embeddings.shape[1]}.\")\n",
        "  except Exception as e:\n",
        "    print(f\"Error during model loading or embeddings: {e}\")\n",
        "    log_embeddings = None\n",
        "else:\n",
        "  log_embeddings = None\n",
        "  print(\"No log lines to process. Skipping embeddings.\")"
      ],
      "metadata": {
        "colab": {
          "base_uri": "https://localhost:8080/",
          "height": 260,
          "referenced_widgets": [
            "b7385f13dbab4fe4809309d202c3e147",
            "fa60fda03ccf42dd93c798fbc0ad999f",
            "b4c0157693ed4d2bbbd9581828d2860b",
            "942bd8d7123a4484ab686e98a2d59920",
            "aed1a9b5aa4b43f6aae70b70f86eebe7",
            "e2efbe956c0e44c4a28029b0123c86dd",
            "18c3becc155f4d80b074d0af77bdf698",
            "86edcbeaaf3048c980b3a33712c95d6e",
            "3ac8906fe6554add8ed7dbc767aefc5e",
            "cdf96c51431042778fcf103698e64598",
            "7ecaf8f3d1044344b6c9af5e5466c892"
          ]
        },
        "collapsed": true,
        "id": "qnaJgjvH6xpo",
        "outputId": "ab3e6126-e030-4e3c-eea3-7a6e24b9ee2f"
      },
      "execution_count": null,
      "outputs": [
        {
          "output_type": "stream",
          "name": "stdout",
          "text": [
            "\n",
            "Loading sentence transformer model...\n"
          ]
        },
        {
          "output_type": "stream",
          "name": "stderr",
          "text": [
            "/usr/local/lib/python3.11/dist-packages/huggingface_hub/utils/_auth.py:94: UserWarning: \n",
            "The secret `HF_TOKEN` does not exist in your Colab secrets.\n",
            "To authenticate with the Hugging Face Hub, create a token in your settings tab (https://huggingface.co/settings/tokens), set it as secret in your Google Colab and restart your session.\n",
            "You will be able to reuse this secret in all of your notebooks.\n",
            "Please note that authentication is recommended but still optional to access public models or datasets.\n",
            "  warnings.warn(\n"
          ]
        },
        {
          "output_type": "stream",
          "name": "stdout",
          "text": [
            "Model 'all-MiniLM-L6-v2' loaded successfully.\n",
            "Generative embeddings for log lines...\n"
          ]
        },
        {
          "output_type": "display_data",
          "data": {
            "text/plain": [
              "Batches:   0%|          | 0/4 [00:00<?, ?it/s]"
            ],
            "application/vnd.jupyter.widget-view+json": {
              "version_major": 2,
              "version_minor": 0,
              "model_id": "b7385f13dbab4fe4809309d202c3e147"
            }
          },
          "metadata": {}
        },
        {
          "output_type": "stream",
          "name": "stdout",
          "text": [
            "Generated 122 embeddings with dimension 384.\n"
          ]
        }
      ]
    },
    {
      "cell_type": "code",
      "source": [
        "from sklearn.ensemble import IsolationForest\n",
        "if log_embeddings is not None and log_embeddings.shape[0]>0:\n",
        "  print(\"\\nTraining Isolation Forest for anomaly detection...\")\n",
        "  contamination_rate = 0.1\n",
        "  if len(log_lines) < 20:\n",
        "    contamination_rate = 'auto'\n",
        "  n_estimators_val = 100\n",
        "  if log_embeddings.shape[0]<50:\n",
        "    n_estimators_val = log_embeddings.shape[0]//2 if log_embeddings.shape[0] > 10 else 10\n",
        "  try:\n",
        "    iso_forest = IsolationForest(n_estimators=n_estimators_val, contamination=contamination_rate, random_state=42)#try including n_jobs = -1#\n",
        "    iso_forest.fit(log_embeddings)\n",
        "    predictions = iso_forest.predict(log_embeddings)\n",
        "    anomalous_indices = np.where(predictions == -1)[0]\n",
        "    print(f\"Isolation Forest identified {len(anomalous_indices)} potential anomalies.\")\n",
        "  except Exception as e:\n",
        "    print(f\"Error during Isolation Forest training or prediction: {e}\")\n",
        "    anomalous_indices = np.array([]) # Empty array if error\n",
        "    predictions = None\n",
        "\n",
        "else:\n",
        "    anomalous_indices = np.array([])\n",
        "    predictions = None\n",
        "    print(\"\\nSkipping anomaly detection as no embeddings were generated.\")"
      ],
      "metadata": {
        "colab": {
          "base_uri": "https://localhost:8080/"
        },
        "collapsed": true,
        "id": "eL8sL9P7B8SF",
        "outputId": "e0e5046c-345a-47a9-9b7a-39c7ed35132a"
      },
      "execution_count": null,
      "outputs": [
        {
          "output_type": "stream",
          "name": "stdout",
          "text": [
            "\n",
            "Training Isolation Forest for anomaly detection...\n",
            "Isolation Forest identified 13 potential anomalies.\n"
          ]
        }
      ]
    },
    {
      "cell_type": "code",
      "source": [
        "if log_lines and predictions is not None:\n",
        "    print(\"\\n--- Log Analysis Results ---\")\n",
        "    normal_count = 0\n",
        "    anomaly_count = 0\n",
        "    for i, line in enumerate(log_lines):\n",
        "        if predictions[i] == -1:\n",
        "            print(f\"[ANOMALY] {i+1}: {line}\")\n",
        "            anomaly_count +=1\n",
        "        else:\n",
        "            # Optionally print normal lines too, or just anomalies\n",
        "            print(f\"[NORMAL]  {i+1}: {line}\")\n",
        "            normal_count +=1\n",
        "    print(f\"\\n--- Summary ---\")\n",
        "    print(f\"Total lines processed: {len(log_lines)}\")\n",
        "    print(f\"Normal lines: {normal_count}\")\n",
        "    print(f\"Potential anomalies detected: {anomaly_count}\")\n",
        "\n",
        "elif log_lines and predictions is None and log_embeddings is not None:\n",
        "    print(\"\\nAnomaly detection could not be performed due to an error.\")\n",
        "elif not log_lines:\n",
        "    print(\"\\nNo log data to analyze.\")"
      ],
      "metadata": {
        "colab": {
          "base_uri": "https://localhost:8080/"
        },
        "id": "sPQkafxEEdeq",
        "outputId": "0b98b78f-7c4a-45b2-9455-980c0eed89ab"
      },
      "execution_count": null,
      "outputs": [
        {
          "output_type": "stream",
          "name": "stdout",
          "text": [
            "\n",
            "--- Log Analysis Results ---\n",
            "[NORMAL]  1: 2023-10-26 10:00:01 INFO: Application startup initiated. Version 1.2.3\n",
            "[NORMAL]  2: 2023-10-26 10:00:02 INFO: Configuration loaded from /etc/app/config.xml\n",
            "[NORMAL]  3: 2023-10-26 10:00:03 DEBUG: Database connection pool initialized with 10 connections.\n",
            "[ANOMALY] 4: 2023-10-26 10:00:04 INFO: Listening on port 8080\n",
            "[NORMAL]  5: 2023-10-26 10:01:15 INFO: User 'alice' logged in successfully from IP 192.168.1.10\n",
            "[NORMAL]  6: 2023-10-26 10:01:17 DEBUG: User 'alice' session created: session_abc123\n",
            "[NORMAL]  7: 2023-10-26 10:01:20 INFO: Request received: GET /api/data?id=123 user='alice'\n",
            "[NORMAL]  8: 2023-10-26 10:01:21 DEBUG: Querying database for item id=123\n",
            "[NORMAL]  9: 2023-10-26 10:01:22 INFO: Data retrieval successful for item id=123. Rows: 1\n",
            "[NORMAL]  10: 2023-10-26 10:01:25 INFO: User 'bob' logged in successfully from IP 192.168.1.12\n",
            "[NORMAL]  11: 2023-10-26 10:01:27 DEBUG: User 'bob' session created: session_def456\n",
            "[NORMAL]  12: 2023-10-26 10:02:00 INFO: Request received: POST /api/update user='alice'\n",
            "[NORMAL]  13: 2023-10-26 10:02:01 DEBUG: Validating input data for update.\n",
            "[NORMAL]  14: 2023-10-26 10:02:02 INFO: Data update successful for user 'alice'.\n",
            "[NORMAL]  15: 2023-10-26 10:02:30 WARN: API rate limit approaching for user 'bob'. 950/1000 requests.\n",
            "[NORMAL]  16: 2023-10-26 10:03:00 INFO: Scheduled job 'daily_backup' started.\n",
            "[NORMAL]  17: 2023-10-26 10:03:05 INFO: Request received: GET /api/data?id=456 user='bob'\n",
            "[NORMAL]  18: 2023-10-26 10:03:06 DEBUG: Querying database for item id=456\n",
            "[NORMAL]  19: 2023-10-26 10:03:07 INFO: Data retrieval successful for item id=456. Rows: 1\n",
            "[ANOMALY] 20: 2023-10-26 10:03:10 ERROR: Failed to process payment for order_789. Reason: Insufficient funds. Customer: CUST007\n",
            "[NORMAL]  21: 2023-10-26 10:03:12 DEBUG: Payment failure logged for order_789\n",
            "[NORMAL]  22: 2023-10-26 10:04:00 INFO: User 'charlie' logged in successfully from IP 192.168.1.15\n",
            "[NORMAL]  23: 2023-10-26 10:04:02 DEBUG: User 'charlie' session created: session_ghi789\n",
            "[NORMAL]  24: 2023-10-26 10:04:05 INFO: Request received: GET /api/data?id=789 user='charlie'\n",
            "[NORMAL]  25: 2023-10-26 10:04:06 DEBUG: Querying database for item id=789\n",
            "[NORMAL]  26: 2023-10-26 10:04:07 INFO: Data retrieval successful for item id=789. Rows: 1\n",
            "[NORMAL]  27: 2023-10-26 10:05:00 INFO: User 'alice' logged out. Session: session_abc123\n",
            "[NORMAL]  28: 2023-10-26 10:05:15 WARN: High memory usage detected: 85% used.\n",
            "[NORMAL]  29: 2023-10-26 10:05:18 INFO: Request received: DELETE /api/resource/xyz user='admin_priv'\n",
            "[ANOMALY] 30: 2023-10-26 10:05:19 INFO: Resource 'xyz' deleted successfully by 'admin_priv'.\n",
            "[NORMAL]  31: 2023-10-26 10:06:00 INFO: User 'dave' attempted login from IP 203.0.113.45 - FAILED (Invalid Credentials)\n",
            "[NORMAL]  32: 2023-10-26 10:06:01 INFO: User 'dave' attempted login from IP 203.0.113.45 - FAILED (Invalid Credentials)\n",
            "[NORMAL]  33: 2023-10-26 10:06:02 INFO: User 'dave' attempted login from IP 203.0.113.45 - FAILED (Invalid Credentials)\n",
            "[NORMAL]  34: 2023-10-26 10:06:03 INFO: User 'dave' attempted login from IP 203.0.113.45 - FAILED (Invalid Credentials)\n",
            "[NORMAL]  35: 2023-10-26 10:06:04 WARN: Multiple failed login attempts for user 'dave' from IP 203.0.113.45. Account locked temporarily.\n",
            "[NORMAL]  36: 2023-10-26 10:07:00 INFO: Request received: GET /api/system_health user='monitor_agent'\n",
            "[NORMAL]  37: 2023-10-26 10:07:01 INFO: System health check: OK. CPU: 30%, Mem: 60%, Disk: 40%\n",
            "[NORMAL]  38: 2023-10-26 10:08:00 INFO: Request received: GET /api/data?id=000 user='bob'\n",
            "[NORMAL]  39: 2023-10-26 10:08:01 DEBUG: Querying database for item id=000\n",
            "[NORMAL]  40: 2023-10-26 10:08:02 INFO: Data retrieval successful for item id=000. Rows: 1\n",
            "[NORMAL]  41: 2023-10-26 10:09:00 INFO: Scheduled job 'data_cleanup' started.\n",
            "[NORMAL]  42: 2023-10-26 10:10:00 INFO: User 'eve_hacker' logged in successfully from IP 10.0.0.5 (Internal Test Account)\n",
            "[NORMAL]  43: 2023-10-26 10:10:05 INFO: Request received: GET /admin/config_dump user='eve_hacker'\n",
            "[ANOMALY] 44: 2023-10-26 10:10:06 CRITICAL: Unauthorized access attempt to /admin/config_dump by user 'eve_hacker' from IP 10.0.0.5.\n",
            "[NORMAL]  45: 2023-10-26 10:10:07 INFO: User 'eve_hacker' session terminated. IP 10.0.0.5 blocked.\n",
            "[NORMAL]  46: 2023-10-26 10:11:00 INFO: Data processing batch 'batch_alpha' started. Records: 10000\n",
            "[NORMAL]  47: 2023-10-26 10:11:05 DEBUG: Processing record 1 of 10000 in 'batch_alpha'\n",
            "[NORMAL]  48: 2023-10-26 10:11:10 DEBUG: Processing record 500 of 10000 in 'batch_alpha'\n",
            "[NORMAL]  49: 2023-10-26 10:11:15 ERROR: Timeout while connecting to external service 'payment_gateway_v2'. URL: https://api.payments.example.com/charge\n",
            "[NORMAL]  50: 2023-10-26 10:11:17 WARN: Retrying connection to 'payment_gateway_v2' (Attempt 1/3)\n",
            "[NORMAL]  51: 2023-10-26 10:11:20 ERROR: Timeout while connecting to external service 'payment_gateway_v2'. URL: https://api.payments.example.com/charge\n",
            "[NORMAL]  52: 2023-10-26 10:11:22 WARN: Retrying connection to 'payment_gateway_v2' (Attempt 2/3)\n",
            "[NORMAL]  53: 2023-10-26 10:11:25 ERROR: Timeout while connecting to external service 'payment_gateway_v2'. URL: https://api.payments.example.com/charge\n",
            "[ANOMALY] 54: 2023-10-26 10:11:27 FATAL: Failed to connect to 'payment_gateway_v2' after 3 retries. Aborting batch 'batch_alpha'.\n",
            "[NORMAL]  55: 2023-10-26 10:11:30 INFO: Data processing batch 'batch_alpha' failed.\n",
            "[NORMAL]  56: 2023-10-26 10:12:00 INFO: User 'frank' logged in successfully from IP 192.168.2.22\n",
            "[NORMAL]  57: 2023-10-26 10:12:05 INFO: Request to deprecated endpoint /api/v1/status by user 'frank'.\n",
            "[NORMAL]  58: 2023-10-26 10:13:00 INFO: New feature flag 'beta_feature_X' enabled for user 'alice'.\n",
            "[NORMAL]  59: 2023-10-26 10:14:00 INFO: Database schema migration version 3.4.1 started.\n",
            "[ANOMALY] 60: 2023-10-26 10:14:30 INFO: Database schema migration version 3.4.1 completed successfully.\n",
            "[NORMAL]  61: 2023-10-26 10:15:00 INFO: System maintenance window starting in 60 minutes.\n",
            "[NORMAL]  62: 2023-10-26 10:15:01 INFO: User 'grace' logged in successfully from IP 192.168.3.33\n",
            "[NORMAL]  63: 2023-10-26 10:15:05 DEBUG: User 'grace' accessing /dashboard\n",
            "[NORMAL]  64: 2023-10-26 10:15:10 INFO: Report 'monthly_sales' generated. Size: 2.5MB\n",
            "[ANOMALY] 65: 2023-10-26 10:16:00 INFO: Unexpected input format for field 'user_preference'. Value: '{\"theme\": \"dark mode\"}' instead of 'dark'. User: 'bob'\n",
            "[NORMAL]  66: 2023-10-26 10:16:05 DEBUG: Attempting to parse 'user_preference' with fallback.\n",
            "[NORMAL]  67: 2023-10-26 10:17:00 INFO: Email sent to admin@example.com: System CPU usage high\n",
            "[NORMAL]  68: 2023-10-26 10:18:00 INFO: User 'heidi' logged in successfully from IP 192.168.1.18\n",
            "[NORMAL]  69: 2023-10-26 10:18:05 DEBUG: Processing background task: image_resize_job_999\n",
            "[ANOMALY] 70: 2023-10-26 10:18:10 INFO: Background task 'image_resize_job_999' completed. Output: /path/to/resized_img.jpg\n",
            "[NORMAL]  71: 2023-10-26 10:19:00 SEVERE: Core component 'MessageQueue' unresponsive. All queue operations paused.\n",
            "[NORMAL]  72: 2023-10-26 10:19:05 INFO: Attempting to restart 'MessageQueue' component.\n",
            "[ANOMALY] 73: 2023-10-26 10:19:10 INFO: 'MessageQueue' component restarted successfully.\n",
            "[NORMAL]  74: 2023-10-26 10:20:00 INFO: User 'ivan' logged in successfully from IP 172.16.0.5\n",
            "[NORMAL]  75: 2023-10-26 10:20:05 INFO: File /tmp/big_upload.dat received. Size: 1024MB. Processing...\n",
            "[NORMAL]  76: 2023-10-26 10:21:00 WARN: Disk space on /tmp is now 95% full. Cleaning up old files.\n",
            "[NORMAL]  77: 2023-10-26 10:21:05 INFO: Old files in /tmp cleaned. Disk space at 70%.\n",
            "[NORMAL]  78: 2023-10-26 10:22:00 INFO: User 'judy' logged in successfully from IP 192.168.4.50\n",
            "[NORMAL]  79: 2023-10-26 10:22:05 DEBUG: User 'judy' initiated data export. Format: CSV\n",
            "[ANOMALY] 80: 2023-10-26 10:22:10 INFO: Data export for 'judy' (all_transactions.csv) completed.\n",
            "[NORMAL]  81: 2023-10-26 10:23:00 INFO: Security audit: User 'admin_root' accessed sensitive data table 'user_credentials'. Justification: Scheduled audit.\n",
            "[NORMAL]  82: 2023-10-26 10:24:00 INFO: Application performing self-test. All systems nominal.\n",
            "[NORMAL]  83: 2023-10-26 10:25:00 INFO: User 'bob' updated profile. Changed email.\n",
            "[NORMAL]  84: 2023-10-26 10:25:05 DEBUG: Sending email confirmation to bob_new_email@example.com\n",
            "[NORMAL]  85: 2023-10-26 10:26:00 INFO: External API call to 'weather_service' successful. Temp: 15C\n",
            "[ANOMALY] 86: 2023-10-26 10:27:00 ERROR: Unhandled Python exception: KeyError 'missing_field' in module 'data_processor.py' line 245\n",
            "[NORMAL]  87: 2023-10-26 10:27:01 DEBUG: Stack trace for KeyError: ... (omitted for brevity) ...\n",
            "[NORMAL]  88: 2023-10-26 10:28:00 INFO: User 'ken' logged in successfully from IP 192.168.1.30\n",
            "[NORMAL]  89: 2023-10-26 10:28:05 INFO: A peculiar cosmic ray event was detected by the server's internal chronometer. Time may be temporarily distorted.\n",
            "[NORMAL]  90: 2023-10-26 10:29:00 INFO: Service 'recommendation_engine' reloaded with new model version 2.5.\n",
            "[NORMAL]  91: 2023-10-26 10:30:00 INFO: All services healthy. Application running normally.\n",
            "[NORMAL]  92: 2023-10-26 10:30:01 INFO: User 'laura' logged in successfully from IP 192.168.5.60\n",
            "[NORMAL]  93: 2023-10-26 10:30:05 DEBUG: User 'laura' viewing product page 'prod_BXT7'\n",
            "[NORMAL]  94: 2023-10-26 10:30:10 INFO: Added item 'prod_BXT7' to cart for user 'laura'\n",
            "[ANOMALY] 95: 2023-10-26 10:31:00 WARN: Certificate for 'external.partner.api.com' expiring in 7 days.\n",
            "[NORMAL]  96: 2023-10-26 10:32:00 INFO: User 'mike' logged in successfully from IP 10.10.10.10\n",
            "[NORMAL]  97: 2023-10-26 10:32:05 DEBUG: User 'mike' searching for 'rare_item_name'\n",
            "[ANOMALY] 98: 2023-10-26 10:32:10 INFO: Search for 'rare_item_name' yielded 0 results.\n",
            "[NORMAL]  99: 2023-10-26 10:33:00 INFO: Resource allocation for 'batch_beta' increased. CPU: 4, Mem: 16GB\n",
            "[NORMAL]  100: 2023-10-26 10:33:05 INFO: Data processing batch 'batch_beta' started. Records: 500\n",
            "[NORMAL]  101: 2023-10-26 10:33:10 DEBUG: Processing record 1 of 500 in 'batch_beta'\n",
            "[NORMAL]  102: 2023-10-26 10:34:00 INFO: New user registered: 'user_newbie_001'. Welcome email sent.\n",
            "[NORMAL]  103: 2023-10-26 10:35:00 INFO: Database connection pool health: 8/10 connections active.\n",
            "[NORMAL]  104: 2023-10-26 10:36:00 INFO: User 'bob' logged out. Session: session_def456\n",
            "[NORMAL]  105: 2023-10-26 10:37:00 INFO: Request received: GET /api/data?id=XYZ user='charlie'\n",
            "[NORMAL]  106: 2023-10-26 10:37:01 DEBUG: Querying database for item id=XYZ\n",
            "[NORMAL]  107: 2023-10-26 10:37:02 INFO: Data retrieval successful for item id=XYZ. Rows: 1\n",
            "[NORMAL]  108: 2023-10-26 10:38:00 INFO: System reboot scheduled for 2023-10-27 02:00:00 UTC.\n",
            "[NORMAL]  109: 2023-10-26 10:39:00 INFO: User 'admin_ops' initiated manual cache flush.\n",
            "[NORMAL]  110: 2023-10-26 10:39:05 INFO: Cache flush completed.\n",
            "[NORMAL]  111: 2023-10-26 10:40:00 INFO: All good, nothing to report, just chilling.\n",
            "[NORMAL]  112: 2023-10-26 10:40:01 INFO: Everything is perfectly fine and normal. Continue operations.\n",
            "[NORMAL]  113: 2023-10-26 10:40:02 INFO: This is a standard operational message, number 345.\n",
            "[NORMAL]  114: 2023-10-26 10:40:03 INFO: Processing complete for user 'zeta', all systems green.\n",
            "[NORMAL]  115: 2023-10-26 10:40:04 INFO: Final log entry for this batch, signing off.\n",
            "[NORMAL]  116: 2023-10-26 10:41:00 ERROR: Corrupted data packet received from sensor SENSOR_003. Data: 0xDEADBEEF...\n",
            "[NORMAL]  117: 2023-10-26 10:42:00 INFO: Service 'user_auth' restarting due to minor glitch.\n",
            "[NORMAL]  118: 2023-10-26 10:42:05 INFO: Service 'user_auth' back online.\n",
            "[NORMAL]  119: 2023-10-26 10:43:00 WARN: API version v1 for /api/data is deprecated. Advise clients to use v2.\n",
            "[NORMAL]  120: 2023-10-26 10:44:00 INFO: Performing routine data integrity check...\n",
            "[NORMAL]  121: 2023-10-26 10:44:30 INFO: Data integrity check passed. No issues found.\n",
            "[NORMAL]  122: 2023-10-26 10:45:00 INFO: Application shutting down gracefully. Goodbye!\n",
            "\n",
            "--- Summary ---\n",
            "Total lines processed: 122\n",
            "Normal lines: 109\n",
            "Potential anomalies detected: 13\n"
          ]
        }
      ]
    },
    {
      "cell_type": "code",
      "source": [
        "import numpy as np\n",
        "from scipy.spatial.distance import cosine\n",
        "\n",
        "# This cell assumes the previous cells have been run and the following variables exist:\n",
        "# - log_lines: The list of all log messages.\n",
        "# - log_embeddings: The embeddings for all log lines.\n",
        "# - predictions: The prediction array (-1 for anomaly, 1 for normal) from Isolation Forest.\n",
        "# - anomalous_indices: The indices of the anomalous logs.\n",
        "\n",
        "if 'anomalous_indices' in locals() and anomalous_indices.size > 0:\n",
        "    print(\"\\n\" + \"=\"*25)\n",
        "    print(\"  Anomaly Explanations\")\n",
        "    print(\"=\"*25 + \"\\n\")\n",
        "    print(\"An anomaly is a log line that is semantically different from the majority of 'normal' logs.\\n\"\n",
        "          \"We will now compare each anomaly against the most typical log patterns found in your file.\\n\")\n",
        "\n",
        "    # 1. Separate normal and anomalous embeddings\n",
        "    normal_indices = np.where(predictions == 1)[0]\n",
        "    normal_embeddings = log_embeddings[normal_indices]\n",
        "\n",
        "    if normal_embeddings.shape[0] > 0:\n",
        "        # 2. Find the \"center of normality\" by averaging the normal embeddings\n",
        "        center_of_normalcy = np.mean(normal_embeddings, axis=0)\n",
        "\n",
        "        # 3. Find the most typical normal logs (closest to the center)\n",
        "        # We use cosine distance: a smaller value means more similar (closer).\n",
        "        distances_from_center = [cosine(emb, center_of_normalcy) for emb in normal_embeddings]\n",
        "\n",
        "        # Get the indices of the top 5 closest normal logs\n",
        "        num_typical_examples = min(5, len(normal_indices))\n",
        "        most_typical_indices_in_normal_set = np.argsort(distances_from_center)[:num_typical_examples]\n",
        "\n",
        "        # Map these back to their original indices in `log_lines`\n",
        "        most_typical_original_indices = normal_indices[most_typical_indices_in_normal_set]\n",
        "\n",
        "        # 4. For each anomaly, explain why it's an anomaly by showing the contrast\n",
        "        for i, anomaly_index in enumerate(anomalous_indices):\n",
        "            anomaly_log = log_lines[anomaly_index]\n",
        "\n",
        "            print(f\"\\n--- Analysis for Anomaly #{i+1} ---\")\n",
        "            print(f\"  [ANOMALY LOG] Line {anomaly_index + 1}: {anomaly_log}\")\n",
        "            print(\"\\n  [REASONING]\")\n",
        "            print(\"  This log is considered an anomaly because its content is semantically distant\")\n",
        "            print(\"  from the common patterns found in the normal logs. It represents a rare or\")\n",
        "            print(\"  unexpected event compared to the typical behavior.\")\n",
        "\n",
        "            print(\"\\n  [COMPARISON]\")\n",
        "            print(f\"  For context, here are {num_typical_examples} of the most 'normal' log lines from your file:\")\n",
        "            for original_idx in most_typical_original_indices:\n",
        "                print(f\"    - (Line {original_idx + 1}) {log_lines[original_idx]}\")\n",
        "    else:\n",
        "        print(\"Could not perform analysis because no 'normal' logs were identified to establish a baseline.\")\n",
        "\n",
        "elif 'anomalous_indices' in locals() and anomalous_indices.size == 0:\n",
        "    print(\"\\n--- No Anomalies to Explain ---\")\n",
        "    print(\"The model did not flag any log lines as anomalies based on the current settings.\")\n",
        "\n",
        "else:\n",
        "    print(\"\\nAnalysis could not be performed. Please ensure the anomaly detection cell ran successfully.\")"
      ],
      "metadata": {
        "colab": {
          "base_uri": "https://localhost:8080/"
        },
        "id": "bnIvKNghiloC",
        "outputId": "fcfb0a19-6395-4c22-8e2d-75e839e5db69"
      },
      "execution_count": null,
      "outputs": [
        {
          "output_type": "stream",
          "name": "stdout",
          "text": [
            "\n",
            "=========================\n",
            "  Anomaly Explanations\n",
            "=========================\n",
            "\n",
            "An anomaly is a log line that is semantically different from the majority of 'normal' logs.\n",
            "We will now compare each anomaly against the most typical log patterns found in your file.\n",
            "\n",
            "\n",
            "--- Analysis for Anomaly #1 ---\n",
            "  [ANOMALY LOG] Line 4: 2023-10-26 10:00:04 INFO: Listening on port 8080\n",
            "\n",
            "  [REASONING]\n",
            "  This log is considered an anomaly because its content is semantically distant\n",
            "  from the common patterns found in the normal logs. It represents a rare or\n",
            "  unexpected event compared to the typical behavior.\n",
            "\n",
            "  [COMPARISON]\n",
            "  For context, here are 5 of the most 'normal' log lines from your file:\n",
            "    - (Line 110) 2023-10-26 10:39:05 INFO: Cache flush completed.\n",
            "    - (Line 115) 2023-10-26 10:40:04 INFO: Final log entry for this batch, signing off.\n",
            "    - (Line 17) 2023-10-26 10:03:05 INFO: Request received: GET /api/data?id=456 user='bob'\n",
            "    - (Line 38) 2023-10-26 10:08:00 INFO: Request received: GET /api/data?id=000 user='bob'\n",
            "    - (Line 105) 2023-10-26 10:37:00 INFO: Request received: GET /api/data?id=XYZ user='charlie'\n",
            "\n",
            "--- Analysis for Anomaly #2 ---\n",
            "  [ANOMALY LOG] Line 20: 2023-10-26 10:03:10 ERROR: Failed to process payment for order_789. Reason: Insufficient funds. Customer: CUST007\n",
            "\n",
            "  [REASONING]\n",
            "  This log is considered an anomaly because its content is semantically distant\n",
            "  from the common patterns found in the normal logs. It represents a rare or\n",
            "  unexpected event compared to the typical behavior.\n",
            "\n",
            "  [COMPARISON]\n",
            "  For context, here are 5 of the most 'normal' log lines from your file:\n",
            "    - (Line 110) 2023-10-26 10:39:05 INFO: Cache flush completed.\n",
            "    - (Line 115) 2023-10-26 10:40:04 INFO: Final log entry for this batch, signing off.\n",
            "    - (Line 17) 2023-10-26 10:03:05 INFO: Request received: GET /api/data?id=456 user='bob'\n",
            "    - (Line 38) 2023-10-26 10:08:00 INFO: Request received: GET /api/data?id=000 user='bob'\n",
            "    - (Line 105) 2023-10-26 10:37:00 INFO: Request received: GET /api/data?id=XYZ user='charlie'\n",
            "\n",
            "--- Analysis for Anomaly #3 ---\n",
            "  [ANOMALY LOG] Line 30: 2023-10-26 10:05:19 INFO: Resource 'xyz' deleted successfully by 'admin_priv'.\n",
            "\n",
            "  [REASONING]\n",
            "  This log is considered an anomaly because its content is semantically distant\n",
            "  from the common patterns found in the normal logs. It represents a rare or\n",
            "  unexpected event compared to the typical behavior.\n",
            "\n",
            "  [COMPARISON]\n",
            "  For context, here are 5 of the most 'normal' log lines from your file:\n",
            "    - (Line 110) 2023-10-26 10:39:05 INFO: Cache flush completed.\n",
            "    - (Line 115) 2023-10-26 10:40:04 INFO: Final log entry for this batch, signing off.\n",
            "    - (Line 17) 2023-10-26 10:03:05 INFO: Request received: GET /api/data?id=456 user='bob'\n",
            "    - (Line 38) 2023-10-26 10:08:00 INFO: Request received: GET /api/data?id=000 user='bob'\n",
            "    - (Line 105) 2023-10-26 10:37:00 INFO: Request received: GET /api/data?id=XYZ user='charlie'\n",
            "\n",
            "--- Analysis for Anomaly #4 ---\n",
            "  [ANOMALY LOG] Line 44: 2023-10-26 10:10:06 CRITICAL: Unauthorized access attempt to /admin/config_dump by user 'eve_hacker' from IP 10.0.0.5.\n",
            "\n",
            "  [REASONING]\n",
            "  This log is considered an anomaly because its content is semantically distant\n",
            "  from the common patterns found in the normal logs. It represents a rare or\n",
            "  unexpected event compared to the typical behavior.\n",
            "\n",
            "  [COMPARISON]\n",
            "  For context, here are 5 of the most 'normal' log lines from your file:\n",
            "    - (Line 110) 2023-10-26 10:39:05 INFO: Cache flush completed.\n",
            "    - (Line 115) 2023-10-26 10:40:04 INFO: Final log entry for this batch, signing off.\n",
            "    - (Line 17) 2023-10-26 10:03:05 INFO: Request received: GET /api/data?id=456 user='bob'\n",
            "    - (Line 38) 2023-10-26 10:08:00 INFO: Request received: GET /api/data?id=000 user='bob'\n",
            "    - (Line 105) 2023-10-26 10:37:00 INFO: Request received: GET /api/data?id=XYZ user='charlie'\n",
            "\n",
            "--- Analysis for Anomaly #5 ---\n",
            "  [ANOMALY LOG] Line 54: 2023-10-26 10:11:27 FATAL: Failed to connect to 'payment_gateway_v2' after 3 retries. Aborting batch 'batch_alpha'.\n",
            "\n",
            "  [REASONING]\n",
            "  This log is considered an anomaly because its content is semantically distant\n",
            "  from the common patterns found in the normal logs. It represents a rare or\n",
            "  unexpected event compared to the typical behavior.\n",
            "\n",
            "  [COMPARISON]\n",
            "  For context, here are 5 of the most 'normal' log lines from your file:\n",
            "    - (Line 110) 2023-10-26 10:39:05 INFO: Cache flush completed.\n",
            "    - (Line 115) 2023-10-26 10:40:04 INFO: Final log entry for this batch, signing off.\n",
            "    - (Line 17) 2023-10-26 10:03:05 INFO: Request received: GET /api/data?id=456 user='bob'\n",
            "    - (Line 38) 2023-10-26 10:08:00 INFO: Request received: GET /api/data?id=000 user='bob'\n",
            "    - (Line 105) 2023-10-26 10:37:00 INFO: Request received: GET /api/data?id=XYZ user='charlie'\n",
            "\n",
            "--- Analysis for Anomaly #6 ---\n",
            "  [ANOMALY LOG] Line 60: 2023-10-26 10:14:30 INFO: Database schema migration version 3.4.1 completed successfully.\n",
            "\n",
            "  [REASONING]\n",
            "  This log is considered an anomaly because its content is semantically distant\n",
            "  from the common patterns found in the normal logs. It represents a rare or\n",
            "  unexpected event compared to the typical behavior.\n",
            "\n",
            "  [COMPARISON]\n",
            "  For context, here are 5 of the most 'normal' log lines from your file:\n",
            "    - (Line 110) 2023-10-26 10:39:05 INFO: Cache flush completed.\n",
            "    - (Line 115) 2023-10-26 10:40:04 INFO: Final log entry for this batch, signing off.\n",
            "    - (Line 17) 2023-10-26 10:03:05 INFO: Request received: GET /api/data?id=456 user='bob'\n",
            "    - (Line 38) 2023-10-26 10:08:00 INFO: Request received: GET /api/data?id=000 user='bob'\n",
            "    - (Line 105) 2023-10-26 10:37:00 INFO: Request received: GET /api/data?id=XYZ user='charlie'\n",
            "\n",
            "--- Analysis for Anomaly #7 ---\n",
            "  [ANOMALY LOG] Line 65: 2023-10-26 10:16:00 INFO: Unexpected input format for field 'user_preference'. Value: '{\"theme\": \"dark mode\"}' instead of 'dark'. User: 'bob'\n",
            "\n",
            "  [REASONING]\n",
            "  This log is considered an anomaly because its content is semantically distant\n",
            "  from the common patterns found in the normal logs. It represents a rare or\n",
            "  unexpected event compared to the typical behavior.\n",
            "\n",
            "  [COMPARISON]\n",
            "  For context, here are 5 of the most 'normal' log lines from your file:\n",
            "    - (Line 110) 2023-10-26 10:39:05 INFO: Cache flush completed.\n",
            "    - (Line 115) 2023-10-26 10:40:04 INFO: Final log entry for this batch, signing off.\n",
            "    - (Line 17) 2023-10-26 10:03:05 INFO: Request received: GET /api/data?id=456 user='bob'\n",
            "    - (Line 38) 2023-10-26 10:08:00 INFO: Request received: GET /api/data?id=000 user='bob'\n",
            "    - (Line 105) 2023-10-26 10:37:00 INFO: Request received: GET /api/data?id=XYZ user='charlie'\n",
            "\n",
            "--- Analysis for Anomaly #8 ---\n",
            "  [ANOMALY LOG] Line 70: 2023-10-26 10:18:10 INFO: Background task 'image_resize_job_999' completed. Output: /path/to/resized_img.jpg\n",
            "\n",
            "  [REASONING]\n",
            "  This log is considered an anomaly because its content is semantically distant\n",
            "  from the common patterns found in the normal logs. It represents a rare or\n",
            "  unexpected event compared to the typical behavior.\n",
            "\n",
            "  [COMPARISON]\n",
            "  For context, here are 5 of the most 'normal' log lines from your file:\n",
            "    - (Line 110) 2023-10-26 10:39:05 INFO: Cache flush completed.\n",
            "    - (Line 115) 2023-10-26 10:40:04 INFO: Final log entry for this batch, signing off.\n",
            "    - (Line 17) 2023-10-26 10:03:05 INFO: Request received: GET /api/data?id=456 user='bob'\n",
            "    - (Line 38) 2023-10-26 10:08:00 INFO: Request received: GET /api/data?id=000 user='bob'\n",
            "    - (Line 105) 2023-10-26 10:37:00 INFO: Request received: GET /api/data?id=XYZ user='charlie'\n",
            "\n",
            "--- Analysis for Anomaly #9 ---\n",
            "  [ANOMALY LOG] Line 73: 2023-10-26 10:19:10 INFO: 'MessageQueue' component restarted successfully.\n",
            "\n",
            "  [REASONING]\n",
            "  This log is considered an anomaly because its content is semantically distant\n",
            "  from the common patterns found in the normal logs. It represents a rare or\n",
            "  unexpected event compared to the typical behavior.\n",
            "\n",
            "  [COMPARISON]\n",
            "  For context, here are 5 of the most 'normal' log lines from your file:\n",
            "    - (Line 110) 2023-10-26 10:39:05 INFO: Cache flush completed.\n",
            "    - (Line 115) 2023-10-26 10:40:04 INFO: Final log entry for this batch, signing off.\n",
            "    - (Line 17) 2023-10-26 10:03:05 INFO: Request received: GET /api/data?id=456 user='bob'\n",
            "    - (Line 38) 2023-10-26 10:08:00 INFO: Request received: GET /api/data?id=000 user='bob'\n",
            "    - (Line 105) 2023-10-26 10:37:00 INFO: Request received: GET /api/data?id=XYZ user='charlie'\n",
            "\n",
            "--- Analysis for Anomaly #10 ---\n",
            "  [ANOMALY LOG] Line 80: 2023-10-26 10:22:10 INFO: Data export for 'judy' (all_transactions.csv) completed.\n",
            "\n",
            "  [REASONING]\n",
            "  This log is considered an anomaly because its content is semantically distant\n",
            "  from the common patterns found in the normal logs. It represents a rare or\n",
            "  unexpected event compared to the typical behavior.\n",
            "\n",
            "  [COMPARISON]\n",
            "  For context, here are 5 of the most 'normal' log lines from your file:\n",
            "    - (Line 110) 2023-10-26 10:39:05 INFO: Cache flush completed.\n",
            "    - (Line 115) 2023-10-26 10:40:04 INFO: Final log entry for this batch, signing off.\n",
            "    - (Line 17) 2023-10-26 10:03:05 INFO: Request received: GET /api/data?id=456 user='bob'\n",
            "    - (Line 38) 2023-10-26 10:08:00 INFO: Request received: GET /api/data?id=000 user='bob'\n",
            "    - (Line 105) 2023-10-26 10:37:00 INFO: Request received: GET /api/data?id=XYZ user='charlie'\n",
            "\n",
            "--- Analysis for Anomaly #11 ---\n",
            "  [ANOMALY LOG] Line 86: 2023-10-26 10:27:00 ERROR: Unhandled Python exception: KeyError 'missing_field' in module 'data_processor.py' line 245\n",
            "\n",
            "  [REASONING]\n",
            "  This log is considered an anomaly because its content is semantically distant\n",
            "  from the common patterns found in the normal logs. It represents a rare or\n",
            "  unexpected event compared to the typical behavior.\n",
            "\n",
            "  [COMPARISON]\n",
            "  For context, here are 5 of the most 'normal' log lines from your file:\n",
            "    - (Line 110) 2023-10-26 10:39:05 INFO: Cache flush completed.\n",
            "    - (Line 115) 2023-10-26 10:40:04 INFO: Final log entry for this batch, signing off.\n",
            "    - (Line 17) 2023-10-26 10:03:05 INFO: Request received: GET /api/data?id=456 user='bob'\n",
            "    - (Line 38) 2023-10-26 10:08:00 INFO: Request received: GET /api/data?id=000 user='bob'\n",
            "    - (Line 105) 2023-10-26 10:37:00 INFO: Request received: GET /api/data?id=XYZ user='charlie'\n",
            "\n",
            "--- Analysis for Anomaly #12 ---\n",
            "  [ANOMALY LOG] Line 95: 2023-10-26 10:31:00 WARN: Certificate for 'external.partner.api.com' expiring in 7 days.\n",
            "\n",
            "  [REASONING]\n",
            "  This log is considered an anomaly because its content is semantically distant\n",
            "  from the common patterns found in the normal logs. It represents a rare or\n",
            "  unexpected event compared to the typical behavior.\n",
            "\n",
            "  [COMPARISON]\n",
            "  For context, here are 5 of the most 'normal' log lines from your file:\n",
            "    - (Line 110) 2023-10-26 10:39:05 INFO: Cache flush completed.\n",
            "    - (Line 115) 2023-10-26 10:40:04 INFO: Final log entry for this batch, signing off.\n",
            "    - (Line 17) 2023-10-26 10:03:05 INFO: Request received: GET /api/data?id=456 user='bob'\n",
            "    - (Line 38) 2023-10-26 10:08:00 INFO: Request received: GET /api/data?id=000 user='bob'\n",
            "    - (Line 105) 2023-10-26 10:37:00 INFO: Request received: GET /api/data?id=XYZ user='charlie'\n",
            "\n",
            "--- Analysis for Anomaly #13 ---\n",
            "  [ANOMALY LOG] Line 98: 2023-10-26 10:32:10 INFO: Search for 'rare_item_name' yielded 0 results.\n",
            "\n",
            "  [REASONING]\n",
            "  This log is considered an anomaly because its content is semantically distant\n",
            "  from the common patterns found in the normal logs. It represents a rare or\n",
            "  unexpected event compared to the typical behavior.\n",
            "\n",
            "  [COMPARISON]\n",
            "  For context, here are 5 of the most 'normal' log lines from your file:\n",
            "    - (Line 110) 2023-10-26 10:39:05 INFO: Cache flush completed.\n",
            "    - (Line 115) 2023-10-26 10:40:04 INFO: Final log entry for this batch, signing off.\n",
            "    - (Line 17) 2023-10-26 10:03:05 INFO: Request received: GET /api/data?id=456 user='bob'\n",
            "    - (Line 38) 2023-10-26 10:08:00 INFO: Request received: GET /api/data?id=000 user='bob'\n",
            "    - (Line 105) 2023-10-26 10:37:00 INFO: Request received: GET /api/data?id=XYZ user='charlie'\n"
          ]
        }
      ]
    },
    {
      "cell_type": "code",
      "source": [
        "# --- Step 1: Install the necessary Hugging Face libraries ---\n",
        "!pip install -q transformers accelerate\n",
        "\n",
        "from transformers import pipeline\n",
        "import torch\n",
        "from IPython.display import display, Markdown\n",
        "import textwrap\n",
        "\n",
        "# --- Step 2: Set up the Hugging Face Pipeline ---\n",
        "print(\"Setting up Hugging Face text-generation pipeline...\")\n",
        "\n",
        "if torch.cuda.is_available():\n",
        "    device = 0\n",
        "    print(\"GPU is available. The model will run on the GPU.\")\n",
        "else:\n",
        "    device = -1\n",
        "    print(\"GPU not available. The model will run on the CPU (this will be significantly slower).\")\n",
        "\n",
        "model_name = \"google/flan-t5-base\"\n",
        "try:\n",
        "    # We only load the generator once\n",
        "    if 'generator' not in locals():\n",
        "        print(f\"Loading model '{model_name}'...\")\n",
        "        generator = pipeline('text2text-generation', model=model_name, device=device)\n",
        "        print(\"Model loaded successfully!\")\n",
        "except Exception as e:\n",
        "    print(f\"Error loading model: {e}\")\n",
        "    generator = None\n",
        "\n",
        "# --- Step 3: Analyze Anomalies Using the Local Model with a Better Prompt ---\n",
        "if generator and 'anomalous_indices' in locals() and anomalous_indices.size > 0:\n",
        "    print(\"\\n\" + \"=\"*50)\n",
        "    print(\"  LLM-Powered Anomaly Explanations (Hugging Face)\")\n",
        "    print(\"=\"*50 + \"\\n\")\n",
        "\n",
        "    normal_indices = np.where(predictions == 1)[0]\n",
        "    num_normal_samples = min(10, len(normal_indices))\n",
        "\n",
        "    if num_normal_samples > 0:\n",
        "        sample_normal_indices = np.random.choice(normal_indices, num_normal_samples, replace=False)\n",
        "        normal_log_samples = \"\\n\".join([log_lines[i] for i in sample_normal_indices])\n",
        "\n",
        "        # --- THIS IS THE NEW, \"FEW-SHOT\" PROMPT ---\n",
        "        # We provide a perfect example to teach the model how to behave.\n",
        "        few_shot_prompt_template = \"\"\"\n",
        "### INSTRUCTIONS ###\n",
        "You are an expert log analysis assistant. Your task is to explain why a given log line is an anomaly.\n",
        "First, look at the examples of normal logs to understand the baseline behavior. Then, analyze the anomalous log and explain the difference.\n",
        "Provide a concise, structured analysis.\n",
        "\n",
        "### EXAMPLE ###\n",
        "[NORMAL logs]\n",
        "2023-11-15 10:00:05 INFO: User 'alice' logged in successfully.\n",
        "2023-11-15 10:01:12 INFO: User 'bob' accessed the dashboard.\n",
        "2023-11-15 10:02:00 INFO: User 'charlie' updated their profile.\n",
        "\n",
        "[ANOMALOUS log]\n",
        "2023-11-15 10:03:45 CRITICAL: Database connection failed: timeout expired.\n",
        "\n",
        "[ANALYSIS]\n",
        "The normal logs show routine user activity like logins and page access. The anomalous log is a CRITICAL system-level failure indicating a complete loss of database connectivity. This is an anomaly because it represents a service outage, not standard user behavior.\n",
        "\n",
        "### TASK ###\n",
        "[NORMAL logs]\n",
        "{normal_logs_text}\n",
        "\n",
        "[ANOMALOUS log]\n",
        "{anomaly_log_text}\n",
        "\n",
        "[ANALYSIS]\n",
        "\"\"\"\n",
        "\n",
        "        for i, anomaly_index in enumerate(anomalous_indices):\n",
        "            anomaly_log = log_lines[anomaly_index]\n",
        "\n",
        "            print(f\"\\n--- Analyzing Anomaly #{i+1} / {len(anomalous_indices)} ---\")\n",
        "            display(Markdown(f\"**Anomalous Log (Line {anomaly_index + 1}):** `{anomaly_log}`\"))\n",
        "\n",
        "            # Populate the template with the actual log data\n",
        "            final_prompt = few_shot_prompt_template.format(\n",
        "                normal_logs_text=normal_log_samples,\n",
        "                anomaly_log_text=anomaly_log\n",
        "            )\n",
        "\n",
        "            # Generate the explanation.\n",
        "            # We use `max_new_tokens` to give it enough space to write a good answer.\n",
        "            # We remove `max_length` to avoid the warning message.\n",
        "            outputs = generator(final_prompt, max_new_tokens=256)\n",
        "            explanation = outputs[0]['generated_text']\n",
        "\n",
        "            display(Markdown(textwrap.fill(explanation, width=100)))\n",
        "\n",
        "    else:\n",
        "        print(\"Could not generate explanations as no 'normal' logs were found to create a baseline.\")\n",
        "\n",
        "elif not generator:\n",
        "    print(\"Could not proceed with analysis because the language model failed to load.\")\n",
        "else:\n",
        "    print(\"\\nNo anomalies to analyze or previous cells were not run.\")"
      ],
      "metadata": {
        "colab": {
          "base_uri": "https://localhost:8080/",
          "height": 1000
        },
        "id": "BPRK5eVwq6ux",
        "outputId": "b7b7e84f-d8e2-4e65-a88a-13301bccb6ca"
      },
      "execution_count": null,
      "outputs": [
        {
          "output_type": "stream",
          "name": "stdout",
          "text": [
            "Setting up Hugging Face text-generation pipeline...\n",
            "GPU is available. The model will run on the GPU.\n",
            "\n",
            "==================================================\n",
            "  LLM-Powered Anomaly Explanations (Hugging Face)\n",
            "==================================================\n",
            "\n",
            "\n",
            "--- Analyzing Anomaly #1 / 13 ---\n"
          ]
        },
        {
          "output_type": "display_data",
          "data": {
            "text/plain": [
              "<IPython.core.display.Markdown object>"
            ],
            "text/markdown": "**Anomalous Log (Line 4):** `2023-10-26 10:00:04 INFO: Listening on port 8080`"
          },
          "metadata": {}
        },
        {
          "output_type": "stream",
          "name": "stderr",
          "text": [
            "Token indices sequence length is longer than the specified maximum sequence length for this model (571 > 512). Running this sequence through the model will result in indexing errors\n"
          ]
        },
        {
          "output_type": "display_data",
          "data": {
            "text/plain": [
              "<IPython.core.display.Markdown object>"
            ],
            "text/markdown": "An anomalous log is a system-level failure indicating a complete loss of database connectivity. This\nis an anomaly because it represents a service outage, not standard user behavior."
          },
          "metadata": {}
        },
        {
          "output_type": "stream",
          "name": "stdout",
          "text": [
            "\n",
            "--- Analyzing Anomaly #2 / 13 ---\n"
          ]
        },
        {
          "output_type": "display_data",
          "data": {
            "text/plain": [
              "<IPython.core.display.Markdown object>"
            ],
            "text/markdown": "**Anomalous Log (Line 20):** `2023-10-26 10:03:10 ERROR: Failed to process payment for order_789. Reason: Insufficient funds. Customer: CUST007`"
          },
          "metadata": {}
        },
        {
          "output_type": "display_data",
          "data": {
            "text/plain": [
              "<IPython.core.display.Markdown object>"
            ],
            "text/markdown": "Failed to process payment for order_789. Reason: Insufficient funds. Customer: CUST007"
          },
          "metadata": {}
        },
        {
          "output_type": "stream",
          "name": "stdout",
          "text": [
            "\n",
            "--- Analyzing Anomaly #3 / 13 ---\n"
          ]
        },
        {
          "output_type": "display_data",
          "data": {
            "text/plain": [
              "<IPython.core.display.Markdown object>"
            ],
            "text/markdown": "**Anomalous Log (Line 30):** `2023-10-26 10:05:19 INFO: Resource 'xyz' deleted successfully by 'admin_priv'.`"
          },
          "metadata": {}
        },
        {
          "output_type": "display_data",
          "data": {
            "text/plain": [
              "<IPython.core.display.Markdown object>"
            ],
            "text/markdown": "The anomalous log is a CRITICAL system-level failure indicating a complete loss of database\nconnectivity. This is an anomaly because it represents a service outage, not standard user behavior."
          },
          "metadata": {}
        },
        {
          "output_type": "stream",
          "name": "stdout",
          "text": [
            "\n",
            "--- Analyzing Anomaly #4 / 13 ---\n"
          ]
        },
        {
          "output_type": "display_data",
          "data": {
            "text/plain": [
              "<IPython.core.display.Markdown object>"
            ],
            "text/markdown": "**Anomalous Log (Line 44):** `2023-10-26 10:10:06 CRITICAL: Unauthorized access attempt to /admin/config_dump by user 'eve_hacker' from IP 10.0.0.5.`"
          },
          "metadata": {}
        },
        {
          "output_type": "display_data",
          "data": {
            "text/plain": [
              "<IPython.core.display.Markdown object>"
            ],
            "text/markdown": "An anomalous log is a CRITICAL system-level failure indicating a complete loss of database\nconnectivity. This is an anomaly because it represents a service outage, not standard user behavior."
          },
          "metadata": {}
        },
        {
          "output_type": "stream",
          "name": "stdout",
          "text": [
            "\n",
            "--- Analyzing Anomaly #5 / 13 ---\n"
          ]
        },
        {
          "output_type": "display_data",
          "data": {
            "text/plain": [
              "<IPython.core.display.Markdown object>"
            ],
            "text/markdown": "**Anomalous Log (Line 54):** `2023-10-26 10:11:27 FATAL: Failed to connect to 'payment_gateway_v2' after 3 retries. Aborting batch 'batch_alpha'.`"
          },
          "metadata": {}
        },
        {
          "output_type": "display_data",
          "data": {
            "text/plain": [
              "<IPython.core.display.Markdown object>"
            ],
            "text/markdown": "The normal logs show routine user activity like logins and page access. The anomalous log is a\nCRITICAL system-level failure indicating a complete loss of database connectivity. This is an\nanomaly because it represents a service outage, not standard user behavior."
          },
          "metadata": {}
        },
        {
          "output_type": "stream",
          "name": "stdout",
          "text": [
            "\n",
            "--- Analyzing Anomaly #6 / 13 ---\n"
          ]
        },
        {
          "output_type": "display_data",
          "data": {
            "text/plain": [
              "<IPython.core.display.Markdown object>"
            ],
            "text/markdown": "**Anomalous Log (Line 60):** `2023-10-26 10:14:30 INFO: Database schema migration version 3.4.1 completed successfully.`"
          },
          "metadata": {}
        },
        {
          "output_type": "display_data",
          "data": {
            "text/plain": [
              "<IPython.core.display.Markdown object>"
            ],
            "text/markdown": "The normal logs show routine user activity like logins and page access. The anomalous log is a\nCRITICAL system-level failure indicating a complete loss of database connectivity. This is an\nanomaly because it represents a service outage, not standard user behavior."
          },
          "metadata": {}
        },
        {
          "output_type": "stream",
          "name": "stdout",
          "text": [
            "\n",
            "--- Analyzing Anomaly #7 / 13 ---\n"
          ]
        },
        {
          "output_type": "display_data",
          "data": {
            "text/plain": [
              "<IPython.core.display.Markdown object>"
            ],
            "text/markdown": "**Anomalous Log (Line 65):** `2023-10-26 10:16:00 INFO: Unexpected input format for field 'user_preference'. Value: '{\"theme\": \"dark mode\"}' instead of 'dark'. User: 'bob'`"
          },
          "metadata": {}
        },
        {
          "output_type": "display_data",
          "data": {
            "text/plain": [
              "<IPython.core.display.Markdown object>"
            ],
            "text/markdown": "Anomaly is a system-level failure indicating a complete loss of database connectivity. The normal\nlogs show routine user activity like logins and page access. The anomalous log is a CRITICAL system-\nlevel failure indicating a complete loss of database connectivity. This is an anomaly because it\nrepresents a service outage, not standard user behavior."
          },
          "metadata": {}
        },
        {
          "output_type": "stream",
          "name": "stdout",
          "text": [
            "\n",
            "--- Analyzing Anomaly #8 / 13 ---\n"
          ]
        },
        {
          "output_type": "display_data",
          "data": {
            "text/plain": [
              "<IPython.core.display.Markdown object>"
            ],
            "text/markdown": "**Anomalous Log (Line 70):** `2023-10-26 10:18:10 INFO: Background task 'image_resize_job_999' completed. Output: /path/to/resized_img.jpg`"
          },
          "metadata": {}
        },
        {
          "output_type": "display_data",
          "data": {
            "text/plain": [
              "<IPython.core.display.Markdown object>"
            ],
            "text/markdown": "The anomalous log is a CRITICAL system-level failure indicating a complete loss of database\nconnectivity. This is an anomaly because it represents a service outage, not standard user behavior."
          },
          "metadata": {}
        },
        {
          "output_type": "stream",
          "name": "stdout",
          "text": [
            "\n",
            "--- Analyzing Anomaly #9 / 13 ---\n"
          ]
        },
        {
          "output_type": "display_data",
          "data": {
            "text/plain": [
              "<IPython.core.display.Markdown object>"
            ],
            "text/markdown": "**Anomalous Log (Line 73):** `2023-10-26 10:19:10 INFO: 'MessageQueue' component restarted successfully.`"
          },
          "metadata": {}
        },
        {
          "output_type": "display_data",
          "data": {
            "text/plain": [
              "<IPython.core.display.Markdown object>"
            ],
            "text/markdown": "The normal logs show routine user activity like logins and page access. The anomalous log is a\nCRITICAL system-level failure indicating a complete loss of database connectivity. This is an\nanomaly because it represents a service outage, not standard user behavior."
          },
          "metadata": {}
        },
        {
          "output_type": "stream",
          "name": "stdout",
          "text": [
            "\n",
            "--- Analyzing Anomaly #10 / 13 ---\n"
          ]
        },
        {
          "output_type": "display_data",
          "data": {
            "text/plain": [
              "<IPython.core.display.Markdown object>"
            ],
            "text/markdown": "**Anomalous Log (Line 80):** `2023-10-26 10:22:10 INFO: Data export for 'judy' (all_transactions.csv) completed.`"
          },
          "metadata": {}
        },
        {
          "output_type": "display_data",
          "data": {
            "text/plain": [
              "<IPython.core.display.Markdown object>"
            ],
            "text/markdown": "Data export for 'judy' (all_transactions.csv) completed."
          },
          "metadata": {}
        },
        {
          "output_type": "stream",
          "name": "stdout",
          "text": [
            "\n",
            "--- Analyzing Anomaly #11 / 13 ---\n"
          ]
        },
        {
          "output_type": "display_data",
          "data": {
            "text/plain": [
              "<IPython.core.display.Markdown object>"
            ],
            "text/markdown": "**Anomalous Log (Line 86):** `2023-10-26 10:27:00 ERROR: Unhandled Python exception: KeyError 'missing_field' in module 'data_processor.py' line 245`"
          },
          "metadata": {}
        },
        {
          "output_type": "display_data",
          "data": {
            "text/plain": [
              "<IPython.core.display.Markdown object>"
            ],
            "text/markdown": "An anomalous log is a system-level failure indicating a complete loss of database connectivity. This\nis an anomaly because it represents a service outage, not standard user behavior."
          },
          "metadata": {}
        },
        {
          "output_type": "stream",
          "name": "stdout",
          "text": [
            "\n",
            "--- Analyzing Anomaly #12 / 13 ---\n"
          ]
        },
        {
          "output_type": "display_data",
          "data": {
            "text/plain": [
              "<IPython.core.display.Markdown object>"
            ],
            "text/markdown": "**Anomalous Log (Line 95):** `2023-10-26 10:31:00 WARN: Certificate for 'external.partner.api.com' expiring in 7 days.`"
          },
          "metadata": {}
        },
        {
          "output_type": "display_data",
          "data": {
            "text/plain": [
              "<IPython.core.display.Markdown object>"
            ],
            "text/markdown": "The anomalous log is a CRITICAL system-level failure indicating a complete loss of database\nconnectivity. This is an anomaly because it represents a service outage, not standard user behavior."
          },
          "metadata": {}
        },
        {
          "output_type": "stream",
          "name": "stdout",
          "text": [
            "\n",
            "--- Analyzing Anomaly #13 / 13 ---\n"
          ]
        },
        {
          "output_type": "display_data",
          "data": {
            "text/plain": [
              "<IPython.core.display.Markdown object>"
            ],
            "text/markdown": "**Anomalous Log (Line 98):** `2023-10-26 10:32:10 INFO: Search for 'rare_item_name' yielded 0 results.`"
          },
          "metadata": {}
        },
        {
          "output_type": "display_data",
          "data": {
            "text/plain": [
              "<IPython.core.display.Markdown object>"
            ],
            "text/markdown": "Anomalous logs show routine user activity like logins and page access. This is an anomaly because it\nrepresents a complete loss of database connectivity. This is an anomaly because it represents a\nservice outage, not standard user behavior."
          },
          "metadata": {}
        }
      ]
    }
  ]
}